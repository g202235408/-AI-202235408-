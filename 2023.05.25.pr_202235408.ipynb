{
 "cells": [
  {
   "attachments": {},
   "cell_type": "markdown",
   "metadata": {},
   "source": [
    "<h1>2023.05.25. 강의 시간내 실습</h1>"
   ]
  },
  {
   "cell_type": "code",
   "execution_count": 77,
   "metadata": {},
   "outputs": [],
   "source": [
    "from sklearn.datasets import load_iris\n",
    "import pandas as pd\n",
    "import numpy as np\n",
    "import matplotlib.pyplot as plt\n",
    "from sklearn.model_selection import train_test_split\n",
    "from sklearn.preprocessing import StandardScaler, LabelEncoder\n",
    "from sklearn.neighbors import KNeighborsClassifier\n",
    "from keras.utils import to_categorical\n",
    "import seaborn as sns"
   ]
  },
  {
   "cell_type": "code",
   "execution_count": 78,
   "metadata": {},
   "outputs": [],
   "source": [
    "iris = load_iris()"
   ]
  },
  {
   "cell_type": "code",
   "execution_count": 79,
   "metadata": {},
   "outputs": [],
   "source": [
    "iris_features = iris.feature_names"
   ]
  },
  {
   "cell_type": "code",
   "execution_count": 80,
   "metadata": {},
   "outputs": [
    {
     "data": {
      "text/plain": [
       "['sepal length (cm)',\n",
       " 'sepal width (cm)',\n",
       " 'petal length (cm)',\n",
       " 'petal width (cm)']"
      ]
     },
     "execution_count": 80,
     "metadata": {},
     "output_type": "execute_result"
    }
   ],
   "source": [
    "iris_features"
   ]
  },
  {
   "cell_type": "code",
   "execution_count": 81,
   "metadata": {},
   "outputs": [],
   "source": [
    "df_data = pd.DataFrame(iris.data, columns = iris_features)\n",
    "df_labels = pd.DataFrame(iris.target, columns = ['label'])"
   ]
  },
  {
   "cell_type": "code",
   "execution_count": 82,
   "metadata": {},
   "outputs": [],
   "source": [
    "data=pd.concat([df_data,df_labels],axis=1)"
   ]
  },
  {
   "cell_type": "code",
   "execution_count": 83,
   "metadata": {},
   "outputs": [
    {
     "data": {
      "text/html": [
       "<div>\n",
       "<style scoped>\n",
       "    .dataframe tbody tr th:only-of-type {\n",
       "        vertical-align: middle;\n",
       "    }\n",
       "\n",
       "    .dataframe tbody tr th {\n",
       "        vertical-align: top;\n",
       "    }\n",
       "\n",
       "    .dataframe thead th {\n",
       "        text-align: right;\n",
       "    }\n",
       "</style>\n",
       "<table border=\"1\" class=\"dataframe\">\n",
       "  <thead>\n",
       "    <tr style=\"text-align: right;\">\n",
       "      <th></th>\n",
       "      <th>sepal length (cm)</th>\n",
       "      <th>sepal width (cm)</th>\n",
       "      <th>petal length (cm)</th>\n",
       "      <th>petal width (cm)</th>\n",
       "      <th>label</th>\n",
       "    </tr>\n",
       "  </thead>\n",
       "  <tbody>\n",
       "    <tr>\n",
       "      <th>0</th>\n",
       "      <td>5.1</td>\n",
       "      <td>3.5</td>\n",
       "      <td>1.4</td>\n",
       "      <td>0.2</td>\n",
       "      <td>0</td>\n",
       "    </tr>\n",
       "    <tr>\n",
       "      <th>1</th>\n",
       "      <td>4.9</td>\n",
       "      <td>3.0</td>\n",
       "      <td>1.4</td>\n",
       "      <td>0.2</td>\n",
       "      <td>0</td>\n",
       "    </tr>\n",
       "    <tr>\n",
       "      <th>2</th>\n",
       "      <td>4.7</td>\n",
       "      <td>3.2</td>\n",
       "      <td>1.3</td>\n",
       "      <td>0.2</td>\n",
       "      <td>0</td>\n",
       "    </tr>\n",
       "    <tr>\n",
       "      <th>3</th>\n",
       "      <td>4.6</td>\n",
       "      <td>3.1</td>\n",
       "      <td>1.5</td>\n",
       "      <td>0.2</td>\n",
       "      <td>0</td>\n",
       "    </tr>\n",
       "    <tr>\n",
       "      <th>4</th>\n",
       "      <td>5.0</td>\n",
       "      <td>3.6</td>\n",
       "      <td>1.4</td>\n",
       "      <td>0.2</td>\n",
       "      <td>0</td>\n",
       "    </tr>\n",
       "    <tr>\n",
       "      <th>...</th>\n",
       "      <td>...</td>\n",
       "      <td>...</td>\n",
       "      <td>...</td>\n",
       "      <td>...</td>\n",
       "      <td>...</td>\n",
       "    </tr>\n",
       "    <tr>\n",
       "      <th>145</th>\n",
       "      <td>6.7</td>\n",
       "      <td>3.0</td>\n",
       "      <td>5.2</td>\n",
       "      <td>2.3</td>\n",
       "      <td>2</td>\n",
       "    </tr>\n",
       "    <tr>\n",
       "      <th>146</th>\n",
       "      <td>6.3</td>\n",
       "      <td>2.5</td>\n",
       "      <td>5.0</td>\n",
       "      <td>1.9</td>\n",
       "      <td>2</td>\n",
       "    </tr>\n",
       "    <tr>\n",
       "      <th>147</th>\n",
       "      <td>6.5</td>\n",
       "      <td>3.0</td>\n",
       "      <td>5.2</td>\n",
       "      <td>2.0</td>\n",
       "      <td>2</td>\n",
       "    </tr>\n",
       "    <tr>\n",
       "      <th>148</th>\n",
       "      <td>6.2</td>\n",
       "      <td>3.4</td>\n",
       "      <td>5.4</td>\n",
       "      <td>2.3</td>\n",
       "      <td>2</td>\n",
       "    </tr>\n",
       "    <tr>\n",
       "      <th>149</th>\n",
       "      <td>5.9</td>\n",
       "      <td>3.0</td>\n",
       "      <td>5.1</td>\n",
       "      <td>1.8</td>\n",
       "      <td>2</td>\n",
       "    </tr>\n",
       "  </tbody>\n",
       "</table>\n",
       "<p>150 rows × 5 columns</p>\n",
       "</div>"
      ],
      "text/plain": [
       "     sepal length (cm)  sepal width (cm)  petal length (cm)  petal width (cm)  \\\n",
       "0                  5.1               3.5                1.4               0.2   \n",
       "1                  4.9               3.0                1.4               0.2   \n",
       "2                  4.7               3.2                1.3               0.2   \n",
       "3                  4.6               3.1                1.5               0.2   \n",
       "4                  5.0               3.6                1.4               0.2   \n",
       "..                 ...               ...                ...               ...   \n",
       "145                6.7               3.0                5.2               2.3   \n",
       "146                6.3               2.5                5.0               1.9   \n",
       "147                6.5               3.0                5.2               2.0   \n",
       "148                6.2               3.4                5.4               2.3   \n",
       "149                5.9               3.0                5.1               1.8   \n",
       "\n",
       "     label  \n",
       "0        0  \n",
       "1        0  \n",
       "2        0  \n",
       "3        0  \n",
       "4        0  \n",
       "..     ...  \n",
       "145      2  \n",
       "146      2  \n",
       "147      2  \n",
       "148      2  \n",
       "149      2  \n",
       "\n",
       "[150 rows x 5 columns]"
      ]
     },
     "execution_count": 83,
     "metadata": {},
     "output_type": "execute_result"
    }
   ],
   "source": [
    "data"
   ]
  },
  {
   "cell_type": "code",
   "execution_count": 84,
   "metadata": {},
   "outputs": [],
   "source": [
    "X = data.iloc[:,0:4].values\n",
    "y = data.iloc[:,4].values\n",
    "\n",
    "from sklearn.preprocessing import LabelEncoder\n",
    "encoder =  LabelEncoder()\n",
    "y1 = encoder.fit_transform(y)\n",
    "\n",
    "Y = pd.get_dummies(y1).values\n",
    "\n",
    "\n",
    "from sklearn.model_selection import train_test_split\n",
    "X_train,X_test, y_train,y_test = train_test_split(X,Y,test_size=0.2,random_state=0) "
   ]
  },
  {
   "cell_type": "code",
   "execution_count": 85,
   "metadata": {},
   "outputs": [],
   "source": [
    "n_features = 1\n",
    "X = X.reshape((X.shape[0], X.shape[1], n_features))"
   ]
  },
  {
   "cell_type": "code",
   "execution_count": 86,
   "metadata": {},
   "outputs": [
    {
     "data": {
      "text/plain": [
       "(150, 4, 1)"
      ]
     },
     "execution_count": 86,
     "metadata": {},
     "output_type": "execute_result"
    }
   ],
   "source": [
    "X.shape"
   ]
  },
  {
   "cell_type": "code",
   "execution_count": 87,
   "metadata": {},
   "outputs": [],
   "source": [
    "encoder = LabelEncoder()\n",
    "\n",
    "y_encoded = encoder.fit_transform(y)\n",
    "\n",
    "y_one_hot = to_categorical(y_encoded)"
   ]
  },
  {
   "cell_type": "code",
   "execution_count": 88,
   "metadata": {},
   "outputs": [],
   "source": [
    "from sklearn.model_selection import train_test_split\n",
    "\n",
    "X_train, X_test, y_train, y_test = train_test_split(X, y_one_hot, test_size=0.2, random_state=0)"
   ]
  },
  {
   "cell_type": "code",
   "execution_count": 89,
   "metadata": {},
   "outputs": [
    {
     "data": {
      "text/plain": [
       "4"
      ]
     },
     "execution_count": 89,
     "metadata": {},
     "output_type": "execute_result"
    }
   ],
   "source": [
    "n_steps = X.shape[1]\n",
    "n_steps"
   ]
  },
  {
   "cell_type": "code",
   "execution_count": 90,
   "metadata": {},
   "outputs": [],
   "source": [
    "from keras.models import Sequential\n",
    "from keras.layers import Dense\n",
    "from keras.layers import Flatten\n",
    "from keras.optimizers import SGD, Adam\n",
    "from keras.layers.convolutional import Conv1D\n",
    "from keras.layers.convolutional import MaxPooling1D"
   ]
  },
  {
   "cell_type": "code",
   "execution_count": 91,
   "metadata": {},
   "outputs": [
    {
     "name": "stdout",
     "output_type": "stream",
     "text": [
      "input_shape =>  4 1\n",
      "Model: \"sequential_6\"\n",
      "_________________________________________________________________\n",
      " Layer (type)                Output Shape              Param #   \n",
      "=================================================================\n",
      " conv1d_6 (Conv1D)           (None, 3, 64)             192       \n",
      "                                                                 \n",
      " max_pooling1d_6 (MaxPooling  (None, 1, 64)            0         \n",
      " 1D)                                                             \n",
      "                                                                 \n",
      " flatten_6 (Flatten)         (None, 64)                0         \n",
      "                                                                 \n",
      " dense_12 (Dense)            (None, 50)                3250      \n",
      "                                                                 \n",
      " dense_13 (Dense)            (None, 3)                 153       \n",
      "                                                                 \n",
      "=================================================================\n",
      "Total params: 3,595\n",
      "Trainable params: 3,595\n",
      "Non-trainable params: 0\n",
      "_________________________________________________________________\n"
     ]
    },
    {
     "name": "stderr",
     "output_type": "stream",
     "text": [
      "c:\\Users\\kkh\\AppData\\Local\\Programs\\Python\\Python310\\lib\\site-packages\\keras\\optimizers\\legacy\\adam.py:117: UserWarning: The `lr` argument is deprecated, use `learning_rate` instead.\n",
      "  super().__init__(name, **kwargs)\n"
     ]
    }
   ],
   "source": [
    "def build_model(): \n",
    "    model = Sequential()\n",
    "    model.add(Conv1D(filters=64, kernel_size=2, activation='relu', input_shape=(n_steps, n_features)))\n",
    "    model.add(MaxPooling1D(pool_size=2))\n",
    "    model.add(Flatten())\n",
    "    model.add(Dense(50, activation='relu'))\n",
    "    model.add(Dense(3, activation='softmax'))\n",
    "    model.compile(loss='categorical_crossentropy', optimizer=Adam(lr=0.0048), metrics=['accuracy'])\n",
    "    \n",
    "    return model\n",
    "\n",
    "model = build_model() \n",
    "print(\"input_shape => \", n_steps, n_features)\n",
    "model.summary()"
   ]
  },
  {
   "cell_type": "code",
   "execution_count": 92,
   "metadata": {},
   "outputs": [
    {
     "name": "stdout",
     "output_type": "stream",
     "text": [
      "Epoch 1/100\n",
      "4/4 [==============================] - 1s 55ms/step - loss: 1.0891 - accuracy: 0.3750 - val_loss: 1.1015 - val_accuracy: 0.2000\n",
      "Epoch 2/100\n",
      "4/4 [==============================] - 0s 13ms/step - loss: 0.9549 - accuracy: 0.5000 - val_loss: 1.0052 - val_accuracy: 0.5667\n",
      "Epoch 3/100\n",
      "4/4 [==============================] - 0s 11ms/step - loss: 0.8659 - accuracy: 0.6917 - val_loss: 0.8869 - val_accuracy: 0.5667\n",
      "Epoch 4/100\n",
      "4/4 [==============================] - 0s 11ms/step - loss: 0.7508 - accuracy: 0.7167 - val_loss: 0.7612 - val_accuracy: 0.6333\n",
      "Epoch 5/100\n",
      "4/4 [==============================] - 0s 12ms/step - loss: 0.6423 - accuracy: 0.8083 - val_loss: 0.6505 - val_accuracy: 0.7000\n",
      "Epoch 6/100\n",
      "4/4 [==============================] - 0s 12ms/step - loss: 0.5497 - accuracy: 0.7833 - val_loss: 0.5676 - val_accuracy: 0.7000\n",
      "Epoch 7/100\n",
      "4/4 [==============================] - 0s 11ms/step - loss: 0.4753 - accuracy: 0.8750 - val_loss: 0.4399 - val_accuracy: 0.9333\n",
      "Epoch 8/100\n",
      "4/4 [==============================] - 0s 11ms/step - loss: 0.4023 - accuracy: 0.9333 - val_loss: 0.4532 - val_accuracy: 0.7333\n",
      "Epoch 9/100\n",
      "4/4 [==============================] - 0s 13ms/step - loss: 0.3695 - accuracy: 0.9167 - val_loss: 0.3347 - val_accuracy: 0.9333\n",
      "Epoch 10/100\n",
      "4/4 [==============================] - 0s 11ms/step - loss: 0.3176 - accuracy: 0.9167 - val_loss: 0.3749 - val_accuracy: 0.7333\n",
      "Epoch 11/100\n",
      "4/4 [==============================] - 0s 12ms/step - loss: 0.2964 - accuracy: 0.9083 - val_loss: 0.2667 - val_accuracy: 0.9667\n",
      "Epoch 12/100\n",
      "4/4 [==============================] - 0s 11ms/step - loss: 0.2702 - accuracy: 0.9417 - val_loss: 0.2997 - val_accuracy: 0.8667\n",
      "Epoch 13/100\n",
      "4/4 [==============================] - 0s 12ms/step - loss: 0.2494 - accuracy: 0.9500 - val_loss: 0.2366 - val_accuracy: 0.9667\n",
      "Epoch 14/100\n",
      "4/4 [==============================] - 0s 12ms/step - loss: 0.2395 - accuracy: 0.9333 - val_loss: 0.2031 - val_accuracy: 0.9667\n",
      "Epoch 15/100\n",
      "4/4 [==============================] - 0s 12ms/step - loss: 0.2483 - accuracy: 0.9000 - val_loss: 0.2681 - val_accuracy: 0.8667\n",
      "Epoch 16/100\n",
      "4/4 [==============================] - 0s 12ms/step - loss: 0.2429 - accuracy: 0.9000 - val_loss: 0.1892 - val_accuracy: 0.9667\n",
      "Epoch 17/100\n",
      "4/4 [==============================] - 0s 11ms/step - loss: 0.2868 - accuracy: 0.8583 - val_loss: 0.1837 - val_accuracy: 0.9667\n",
      "Epoch 18/100\n",
      "4/4 [==============================] - 0s 11ms/step - loss: 0.2856 - accuracy: 0.8750 - val_loss: 0.3782 - val_accuracy: 0.7333\n",
      "Epoch 19/100\n",
      "4/4 [==============================] - 0s 13ms/step - loss: 0.2242 - accuracy: 0.9417 - val_loss: 0.1462 - val_accuracy: 0.9667\n",
      "Epoch 20/100\n",
      "4/4 [==============================] - 0s 13ms/step - loss: 0.2194 - accuracy: 0.9000 - val_loss: 0.2849 - val_accuracy: 0.8667\n",
      "Epoch 21/100\n",
      "4/4 [==============================] - 0s 12ms/step - loss: 0.2245 - accuracy: 0.9083 - val_loss: 0.1638 - val_accuracy: 1.0000\n",
      "Epoch 22/100\n",
      "4/4 [==============================] - 0s 11ms/step - loss: 0.2014 - accuracy: 0.9167 - val_loss: 0.1350 - val_accuracy: 0.9667\n",
      "Epoch 23/100\n",
      "4/4 [==============================] - 0s 11ms/step - loss: 0.1783 - accuracy: 0.9500 - val_loss: 0.2822 - val_accuracy: 0.8667\n",
      "Epoch 24/100\n",
      "4/4 [==============================] - 0s 11ms/step - loss: 0.1920 - accuracy: 0.9167 - val_loss: 0.1376 - val_accuracy: 0.9667\n",
      "Epoch 25/100\n",
      "4/4 [==============================] - 0s 11ms/step - loss: 0.1739 - accuracy: 0.9417 - val_loss: 0.1678 - val_accuracy: 0.9333\n",
      "Epoch 26/100\n",
      "4/4 [==============================] - 0s 12ms/step - loss: 0.1595 - accuracy: 0.9667 - val_loss: 0.1678 - val_accuracy: 0.9333\n",
      "Epoch 27/100\n",
      "4/4 [==============================] - 0s 11ms/step - loss: 0.1602 - accuracy: 0.9500 - val_loss: 0.1458 - val_accuracy: 1.0000\n",
      "Epoch 28/100\n",
      "4/4 [==============================] - 0s 11ms/step - loss: 0.1543 - accuracy: 0.9417 - val_loss: 0.1712 - val_accuracy: 0.9333\n",
      "Epoch 29/100\n",
      "4/4 [==============================] - 0s 12ms/step - loss: 0.1572 - accuracy: 0.9583 - val_loss: 0.1446 - val_accuracy: 0.9667\n",
      "Epoch 30/100\n",
      "4/4 [==============================] - 0s 11ms/step - loss: 0.1478 - accuracy: 0.9500 - val_loss: 0.1360 - val_accuracy: 1.0000\n",
      "Epoch 31/100\n",
      "4/4 [==============================] - 0s 11ms/step - loss: 0.1445 - accuracy: 0.9500 - val_loss: 0.1539 - val_accuracy: 0.9333\n",
      "Epoch 32/100\n",
      "4/4 [==============================] - 0s 12ms/step - loss: 0.1444 - accuracy: 0.9667 - val_loss: 0.1381 - val_accuracy: 0.9667\n",
      "Epoch 33/100\n",
      "4/4 [==============================] - 0s 11ms/step - loss: 0.1501 - accuracy: 0.9500 - val_loss: 0.1548 - val_accuracy: 0.9333\n",
      "Epoch 34/100\n",
      "4/4 [==============================] - 0s 12ms/step - loss: 0.1591 - accuracy: 0.9417 - val_loss: 0.1220 - val_accuracy: 0.9667\n",
      "Epoch 35/100\n",
      "4/4 [==============================] - 0s 11ms/step - loss: 0.1421 - accuracy: 0.9500 - val_loss: 0.1127 - val_accuracy: 0.9667\n",
      "Epoch 36/100\n",
      "4/4 [==============================] - 0s 11ms/step - loss: 0.1369 - accuracy: 0.9500 - val_loss: 0.1528 - val_accuracy: 0.9333\n",
      "Epoch 37/100\n",
      "4/4 [==============================] - 0s 12ms/step - loss: 0.1513 - accuracy: 0.9583 - val_loss: 0.1352 - val_accuracy: 0.9667\n",
      "Epoch 38/100\n",
      "4/4 [==============================] - 0s 11ms/step - loss: 0.1608 - accuracy: 0.9333 - val_loss: 0.1447 - val_accuracy: 0.9333\n",
      "Epoch 39/100\n",
      "4/4 [==============================] - 0s 12ms/step - loss: 0.1332 - accuracy: 0.9667 - val_loss: 0.0976 - val_accuracy: 0.9667\n",
      "Epoch 40/100\n",
      "4/4 [==============================] - 0s 17ms/step - loss: 0.1486 - accuracy: 0.9250 - val_loss: 0.2024 - val_accuracy: 0.9000\n",
      "Epoch 41/100\n",
      "4/4 [==============================] - 0s 12ms/step - loss: 0.1325 - accuracy: 0.9667 - val_loss: 0.0952 - val_accuracy: 0.9667\n",
      "Epoch 42/100\n",
      "4/4 [==============================] - 0s 11ms/step - loss: 0.1285 - accuracy: 0.9500 - val_loss: 0.1757 - val_accuracy: 0.9000\n",
      "Epoch 43/100\n",
      "4/4 [==============================] - 0s 11ms/step - loss: 0.1354 - accuracy: 0.9500 - val_loss: 0.1000 - val_accuracy: 0.9667\n",
      "Epoch 44/100\n",
      "4/4 [==============================] - 0s 12ms/step - loss: 0.1499 - accuracy: 0.9333 - val_loss: 0.1293 - val_accuracy: 0.9667\n",
      "Epoch 45/100\n",
      "4/4 [==============================] - 0s 12ms/step - loss: 0.1510 - accuracy: 0.9333 - val_loss: 0.1370 - val_accuracy: 0.9333\n",
      "Epoch 46/100\n",
      "4/4 [==============================] - 0s 11ms/step - loss: 0.1376 - accuracy: 0.9417 - val_loss: 0.0963 - val_accuracy: 0.9667\n",
      "Epoch 47/100\n",
      "4/4 [==============================] - 0s 11ms/step - loss: 0.1311 - accuracy: 0.9500 - val_loss: 0.1403 - val_accuracy: 0.9333\n",
      "Epoch 48/100\n",
      "4/4 [==============================] - 0s 11ms/step - loss: 0.1202 - accuracy: 0.9667 - val_loss: 0.0913 - val_accuracy: 0.9667\n",
      "Epoch 49/100\n",
      "4/4 [==============================] - 0s 12ms/step - loss: 0.1248 - accuracy: 0.9667 - val_loss: 0.1697 - val_accuracy: 0.9000\n",
      "Epoch 50/100\n",
      "4/4 [==============================] - 0s 11ms/step - loss: 0.1160 - accuracy: 0.9583 - val_loss: 0.0907 - val_accuracy: 0.9667\n",
      "Epoch 51/100\n",
      "4/4 [==============================] - 0s 11ms/step - loss: 0.1519 - accuracy: 0.9333 - val_loss: 0.1995 - val_accuracy: 0.9000\n",
      "Epoch 52/100\n",
      "4/4 [==============================] - 0s 11ms/step - loss: 0.1356 - accuracy: 0.9583 - val_loss: 0.0910 - val_accuracy: 0.9667\n",
      "Epoch 53/100\n",
      "4/4 [==============================] - 0s 11ms/step - loss: 0.1224 - accuracy: 0.9500 - val_loss: 0.1461 - val_accuracy: 0.9000\n",
      "Epoch 54/100\n",
      "4/4 [==============================] - 0s 13ms/step - loss: 0.1357 - accuracy: 0.9500 - val_loss: 0.1193 - val_accuracy: 0.9667\n",
      "Epoch 55/100\n",
      "4/4 [==============================] - 0s 11ms/step - loss: 0.1153 - accuracy: 0.9333 - val_loss: 0.0868 - val_accuracy: 0.9667\n",
      "Epoch 56/100\n",
      "4/4 [==============================] - 0s 12ms/step - loss: 0.1236 - accuracy: 0.9500 - val_loss: 0.2147 - val_accuracy: 0.9000\n",
      "Epoch 57/100\n",
      "4/4 [==============================] - 0s 11ms/step - loss: 0.1428 - accuracy: 0.9500 - val_loss: 0.0885 - val_accuracy: 0.9667\n",
      "Epoch 58/100\n",
      "4/4 [==============================] - 0s 11ms/step - loss: 0.1243 - accuracy: 0.9417 - val_loss: 0.1692 - val_accuracy: 0.9000\n",
      "Epoch 59/100\n",
      "4/4 [==============================] - 0s 11ms/step - loss: 0.1186 - accuracy: 0.9667 - val_loss: 0.0873 - val_accuracy: 0.9667\n",
      "Epoch 60/100\n",
      "4/4 [==============================] - 0s 11ms/step - loss: 0.1223 - accuracy: 0.9583 - val_loss: 0.1336 - val_accuracy: 0.9333\n",
      "Epoch 61/100\n",
      "4/4 [==============================] - 0s 12ms/step - loss: 0.1057 - accuracy: 0.9750 - val_loss: 0.0850 - val_accuracy: 0.9667\n",
      "Epoch 62/100\n",
      "4/4 [==============================] - 0s 11ms/step - loss: 0.1300 - accuracy: 0.9583 - val_loss: 0.1062 - val_accuracy: 1.0000\n",
      "Epoch 63/100\n",
      "4/4 [==============================] - 0s 11ms/step - loss: 0.1288 - accuracy: 0.9500 - val_loss: 0.1017 - val_accuracy: 1.0000\n",
      "Epoch 64/100\n",
      "4/4 [==============================] - 0s 13ms/step - loss: 0.1232 - accuracy: 0.9583 - val_loss: 0.1265 - val_accuracy: 0.9333\n",
      "Epoch 65/100\n",
      "4/4 [==============================] - 0s 13ms/step - loss: 0.1118 - accuracy: 0.9667 - val_loss: 0.0848 - val_accuracy: 0.9667\n",
      "Epoch 66/100\n",
      "4/4 [==============================] - 0s 14ms/step - loss: 0.1532 - accuracy: 0.9250 - val_loss: 0.1631 - val_accuracy: 0.9000\n",
      "Epoch 67/100\n",
      "4/4 [==============================] - 0s 16ms/step - loss: 0.1120 - accuracy: 0.9667 - val_loss: 0.0843 - val_accuracy: 0.9667\n",
      "Epoch 68/100\n",
      "4/4 [==============================] - 0s 11ms/step - loss: 0.1107 - accuracy: 0.9667 - val_loss: 0.1662 - val_accuracy: 0.9000\n",
      "Epoch 69/100\n",
      "4/4 [==============================] - 0s 12ms/step - loss: 0.1290 - accuracy: 0.9583 - val_loss: 0.0846 - val_accuracy: 0.9667\n",
      "Epoch 70/100\n",
      "4/4 [==============================] - 0s 11ms/step - loss: 0.1364 - accuracy: 0.9417 - val_loss: 0.1195 - val_accuracy: 0.9667\n",
      "Epoch 71/100\n",
      "4/4 [==============================] - 0s 11ms/step - loss: 0.1061 - accuracy: 0.9667 - val_loss: 0.1224 - val_accuracy: 0.9333\n",
      "Epoch 72/100\n",
      "4/4 [==============================] - 0s 11ms/step - loss: 0.1057 - accuracy: 0.9750 - val_loss: 0.0932 - val_accuracy: 0.9667\n",
      "Epoch 73/100\n",
      "4/4 [==============================] - 0s 11ms/step - loss: 0.1022 - accuracy: 0.9750 - val_loss: 0.1036 - val_accuracy: 1.0000\n",
      "Epoch 74/100\n",
      "4/4 [==============================] - 0s 11ms/step - loss: 0.1016 - accuracy: 0.9750 - val_loss: 0.0925 - val_accuracy: 0.9667\n",
      "Epoch 75/100\n",
      "4/4 [==============================] - 0s 11ms/step - loss: 0.1133 - accuracy: 0.9583 - val_loss: 0.1294 - val_accuracy: 0.9333\n",
      "Epoch 76/100\n",
      "4/4 [==============================] - 0s 11ms/step - loss: 0.1078 - accuracy: 0.9583 - val_loss: 0.0905 - val_accuracy: 0.9667\n",
      "Epoch 77/100\n",
      "4/4 [==============================] - 0s 11ms/step - loss: 0.1035 - accuracy: 0.9583 - val_loss: 0.1243 - val_accuracy: 0.9333\n",
      "Epoch 78/100\n",
      "4/4 [==============================] - 0s 11ms/step - loss: 0.1030 - accuracy: 0.9667 - val_loss: 0.0899 - val_accuracy: 0.9667\n",
      "Epoch 79/100\n",
      "4/4 [==============================] - 0s 11ms/step - loss: 0.1037 - accuracy: 0.9667 - val_loss: 0.1167 - val_accuracy: 0.9667\n",
      "Epoch 80/100\n",
      "4/4 [==============================] - 0s 13ms/step - loss: 0.1065 - accuracy: 0.9500 - val_loss: 0.0830 - val_accuracy: 0.9667\n",
      "Epoch 81/100\n",
      "4/4 [==============================] - 0s 12ms/step - loss: 0.1064 - accuracy: 0.9667 - val_loss: 0.1115 - val_accuracy: 1.0000\n",
      "Epoch 82/100\n",
      "4/4 [==============================] - 0s 11ms/step - loss: 0.1126 - accuracy: 0.9583 - val_loss: 0.0863 - val_accuracy: 0.9667\n",
      "Epoch 83/100\n",
      "4/4 [==============================] - 0s 11ms/step - loss: 0.0996 - accuracy: 0.9583 - val_loss: 0.0908 - val_accuracy: 0.9667\n",
      "Epoch 84/100\n",
      "4/4 [==============================] - 0s 11ms/step - loss: 0.1044 - accuracy: 0.9750 - val_loss: 0.1067 - val_accuracy: 1.0000\n",
      "Epoch 85/100\n",
      "4/4 [==============================] - 0s 12ms/step - loss: 0.1080 - accuracy: 0.9667 - val_loss: 0.1071 - val_accuracy: 1.0000\n",
      "Epoch 86/100\n",
      "4/4 [==============================] - 0s 11ms/step - loss: 0.1108 - accuracy: 0.9500 - val_loss: 0.0902 - val_accuracy: 0.9667\n",
      "Epoch 87/100\n",
      "4/4 [==============================] - 0s 12ms/step - loss: 0.0992 - accuracy: 0.9750 - val_loss: 0.1424 - val_accuracy: 0.9000\n",
      "Epoch 88/100\n",
      "4/4 [==============================] - 0s 11ms/step - loss: 0.1037 - accuracy: 0.9583 - val_loss: 0.0819 - val_accuracy: 0.9667\n",
      "Epoch 89/100\n",
      "4/4 [==============================] - 0s 12ms/step - loss: 0.1066 - accuracy: 0.9583 - val_loss: 0.1439 - val_accuracy: 0.9000\n",
      "Epoch 90/100\n",
      "4/4 [==============================] - 0s 17ms/step - loss: 0.1115 - accuracy: 0.9583 - val_loss: 0.0775 - val_accuracy: 0.9667\n",
      "Epoch 91/100\n",
      "4/4 [==============================] - 0s 12ms/step - loss: 0.1100 - accuracy: 0.9500 - val_loss: 0.0923 - val_accuracy: 1.0000\n",
      "Epoch 92/100\n",
      "4/4 [==============================] - 0s 11ms/step - loss: 0.0960 - accuracy: 0.9667 - val_loss: 0.1309 - val_accuracy: 0.9000\n",
      "Epoch 93/100\n",
      "4/4 [==============================] - 0s 12ms/step - loss: 0.1135 - accuracy: 0.9583 - val_loss: 0.0755 - val_accuracy: 0.9667\n",
      "Epoch 94/100\n",
      "4/4 [==============================] - 0s 12ms/step - loss: 0.1365 - accuracy: 0.9500 - val_loss: 0.1247 - val_accuracy: 0.9000\n",
      "Epoch 95/100\n",
      "4/4 [==============================] - 0s 12ms/step - loss: 0.1606 - accuracy: 0.9417 - val_loss: 0.1494 - val_accuracy: 0.9000\n",
      "Epoch 96/100\n",
      "4/4 [==============================] - 0s 11ms/step - loss: 0.1122 - accuracy: 0.9583 - val_loss: 0.0878 - val_accuracy: 0.9667\n",
      "Epoch 97/100\n",
      "4/4 [==============================] - 0s 11ms/step - loss: 0.1484 - accuracy: 0.9583 - val_loss: 0.3320 - val_accuracy: 0.8000\n",
      "Epoch 98/100\n",
      "4/4 [==============================] - 0s 11ms/step - loss: 0.1691 - accuracy: 0.9250 - val_loss: 0.0861 - val_accuracy: 0.9667\n",
      "Epoch 99/100\n",
      "4/4 [==============================] - 0s 11ms/step - loss: 0.1181 - accuracy: 0.9500 - val_loss: 0.1407 - val_accuracy: 0.9000\n",
      "Epoch 100/100\n",
      "4/4 [==============================] - 0s 12ms/step - loss: 0.1038 - accuracy: 0.9750 - val_loss: 0.0896 - val_accuracy: 1.0000\n",
      "1/1 [==============================] - 0s 57ms/step\n"
     ]
    }
   ],
   "source": [
    "model_history=model.fit(x=X_train, y=y_train, epochs=100, batch_size=32,validation_data= (X_test,y_test))\n",
    "y_pred = model.predict(X_test)\n",
    "\n",
    "y_test_class = np.argmax(y_test,axis=1)\n",
    "y_pred_class = np.argmax(y_pred,axis=1)"
   ]
  },
  {
   "cell_type": "code",
   "execution_count": 93,
   "metadata": {},
   "outputs": [
    {
     "data": {
      "image/png": "[encoded data removed]",
      "text/plain": [
       "<Figure size 640x480 with 1 Axes>"
      ]
     },
     "metadata": {},
     "output_type": "display_data"
    }
   ],
   "source": [
    "import matplotlib.pyplot as plt\n",
    "import seaborn as sns\n",
    "\n",
    "loss = model_history.history['loss']\n",
    "val_loss = model_history.history['val_loss']\n",
    "epochs = range(1, len(loss) + 1)\n",
    "plt.plot(epochs, loss, 'y', label='Training loss')\n",
    "plt.plot(epochs, val_loss, 'r', label='Validation loss')\n",
    "plt.title('Training and validation loss')\n",
    "plt.xlabel('Epochs')\n",
    "plt.ylabel('Loss')\n",
    "plt.legend()\n",
    "plt.show()"
   ]
  },
  {
   "cell_type": "code",
   "execution_count": 94,
   "metadata": {},
   "outputs": [
    {
     "data": {
      "image/png": "[encoded data removed]",
      "text/plain": [
       "<Figure size 640x480 with 1 Axes>"
      ]
     },
     "metadata": {},
     "output_type": "display_data"
    }
   ],
   "source": [
    "acc =model_history.history['accuracy']\n",
    "val_acc =model_history.history['val_accuracy']\n",
    "plt.plot(epochs, acc, 'y', label='Training acc')\n",
    "plt.plot(epochs, val_acc, 'r', label='Validation acc')\n",
    "plt.title('Training and validation accuracy')\n",
    "plt.xlabel('Epochs')\n",
    "plt.ylabel('Accuracy')\n",
    "plt.legend()\n",
    "plt.show()"
   ]
  },
  {
   "cell_type": "code",
   "execution_count": 95,
   "metadata": {},
   "outputs": [
    {
     "name": "stdout",
     "output_type": "stream",
     "text": [
      "              precision    recall  f1-score   support\n",
      "\n",
      "           0       1.00      1.00      1.00        11\n",
      "           1       1.00      1.00      1.00        13\n",
      "           2       1.00      1.00      1.00         6\n",
      "\n",
      "    accuracy                           1.00        30\n",
      "   macro avg       1.00      1.00      1.00        30\n",
      "weighted avg       1.00      1.00      1.00        30\n",
      "\n",
      "[[11  0  0]\n",
      " [ 0 13  0]\n",
      " [ 0  0  6]]\n"
     ]
    }
   ],
   "source": [
    "from sklearn.metrics import classification_report,confusion_matrix\n",
    "print(classification_report(y_test_class,y_pred_class))\n",
    "print(confusion_matrix(y_test_class,y_pred_class))"
   ]
  }
 ],
 "metadata": {
  "kernelspec": {
   "display_name": "Python 3",
   "language": "python",
   "name": "python3"
  },
  "language_info": {
   "codemirror_mode": {
    "name": "ipython",
    "version": 3
   },
   "file_extension": ".py",
   "mimetype": "text/x-python",
   "name": "python",
   "nbconvert_exporter": "python",
   "pygments_lexer": "ipython3",
   "version": "3.10.6"
  },
  "orig_nbformat": 4
 },
 "nbformat": 4,
 "nbformat_minor": 2
}
