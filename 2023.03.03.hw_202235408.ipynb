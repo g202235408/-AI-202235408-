{
 "cells": [
  {
   "attachments": {},
   "cell_type": "markdown",
   "metadata": {},
   "source": [
    "<h3>다음의 Error를 해결하기 위하여 y_test에 .values.ravel()추가</h3>\n",
    "<h4>\n",
    "[Error]\n",
    "DataConversionWarning: A column-vector y was passed when a 1d array was expected. Please change the shape of y to (n_samples,), for example using ravel().\n",
    "return self._fit(X, y)\n",
    "</h4>\n",
    "<a href=\"https://stackoverflow.com/questions/34165731/a-column-vector-y-was-passed-when-a-1d-array-was-expected\">참고 링크</a>"
   ]
  },
  {
   "attachments": {},
   "cell_type": "markdown",
   "metadata": {},
   "source": [
    "<h1>hw_1 - (1)</h1>\n",
    "<h3>data와 labels 열 개만 출력해서 실제 값을 확인하세요</h3>\n",
    "<h4>(랜덤한 10가지의 data와 labels 출력)</h4>"
   ]
  },
  {
   "cell_type": "code",
   "execution_count": 47,
   "metadata": {},
   "outputs": [],
   "source": [
    "from sklearn.datasets import load_breast_cancer\n",
    "import pandas as pd\n",
    "\n",
    "breast_cancer_data = load_breast_cancer()\n",
    "\n",
    "df_data = pd.DataFrame(breast_cancer_data.data)\n",
    "df_labels = pd.DataFrame(breast_cancer_data.target)"
   ]
  },
  {
   "cell_type": "code",
   "execution_count": 48,
   "metadata": {},
   "outputs": [
    {
     "data": {
      "text/html": [
       "<div>\n",
       "<style scoped>\n",
       "    .dataframe tbody tr th:only-of-type {\n",
       "        vertical-align: middle;\n",
       "    }\n",
       "\n",
       "    .dataframe tbody tr th {\n",
       "        vertical-align: top;\n",
       "    }\n",
       "\n",
       "    .dataframe thead th {\n",
       "        text-align: right;\n",
       "    }\n",
       "</style>\n",
       "<table border=\"1\" class=\"dataframe\">\n",
       "  <thead>\n",
       "    <tr style=\"text-align: right;\">\n",
       "      <th></th>\n",
       "      <th>0</th>\n",
       "    </tr>\n",
       "  </thead>\n",
       "  <tbody>\n",
       "    <tr>\n",
       "      <th>333</th>\n",
       "      <td>1</td>\n",
       "    </tr>\n",
       "    <tr>\n",
       "      <th>462</th>\n",
       "      <td>1</td>\n",
       "    </tr>\n",
       "    <tr>\n",
       "      <th>294</th>\n",
       "      <td>1</td>\n",
       "    </tr>\n",
       "    <tr>\n",
       "      <th>188</th>\n",
       "      <td>1</td>\n",
       "    </tr>\n",
       "    <tr>\n",
       "      <th>434</th>\n",
       "      <td>1</td>\n",
       "    </tr>\n",
       "    <tr>\n",
       "      <th>536</th>\n",
       "      <td>0</td>\n",
       "    </tr>\n",
       "    <tr>\n",
       "      <th>388</th>\n",
       "      <td>1</td>\n",
       "    </tr>\n",
       "    <tr>\n",
       "      <th>28</th>\n",
       "      <td>0</td>\n",
       "    </tr>\n",
       "    <tr>\n",
       "      <th>36</th>\n",
       "      <td>0</td>\n",
       "    </tr>\n",
       "    <tr>\n",
       "      <th>72</th>\n",
       "      <td>0</td>\n",
       "    </tr>\n",
       "  </tbody>\n",
       "</table>\n",
       "</div>"
      ],
      "text/plain": [
       "     0\n",
       "333  1\n",
       "462  1\n",
       "294  1\n",
       "188  1\n",
       "434  1\n",
       "536  0\n",
       "388  1\n",
       "28   0\n",
       "36   0\n",
       "72   0"
      ]
     },
     "execution_count": 48,
     "metadata": {},
     "output_type": "execute_result"
    }
   ],
   "source": [
    "## data | labels\n",
    "df_data.sample(n = 10)\n",
    "df_labels.sample(n = 10)"
   ]
  },
  {
   "attachments": {},
   "cell_type": "markdown",
   "metadata": {},
   "source": [
    "<h4>각 label이 의미하는 것 확인</h4>"
   ]
  },
  {
   "cell_type": "code",
   "execution_count": 49,
   "metadata": {},
   "outputs": [
    {
     "name": "stdout",
     "output_type": "stream",
     "text": [
      "['malignant' 'benign']\n"
     ]
    }
   ],
   "source": [
    "print(breast_cancer_data.target_names)\n",
    "\n",
    "## malignant = 0, benign = 1"
   ]
  },
  {
   "attachments": {},
   "cell_type": "markdown",
   "metadata": {},
   "source": [
    "<h1>hw_1 - (2)</h1>\n",
    "<h3>X_train, y_train, X_test, y_test로 훈련과 테스트 데이터를 8:2로 나누기</h3>"
   ]
  },
  {
   "cell_type": "code",
   "execution_count": 50,
   "metadata": {},
   "outputs": [
    {
     "name": "stdout",
     "output_type": "stream",
     "text": [
      "X_train.shape : (455, 30)\n",
      "y_train.shape : (455, 1)\n",
      "X_test.shape : (114, 30)\n",
      "y_test.shape : (455, 1)\n"
     ]
    }
   ],
   "source": [
    "from sklearn.model_selection import train_test_split \n",
    "\n",
    "X_train, X_test, y_train, y_test = train_test_split(df_data, df_labels, test_size=0.2, random_state=6)\n",
    "\n",
    "print(\"X_train.shape :\", X_train.shape)\n",
    "\n",
    "print(\"y_train.shape :\", y_train.shape)\n",
    "\n",
    "print(\"X_test.shape :\", X_test.shape)\n",
    "\n",
    "print(\"y_test.shape :\", y_train.shape)"
   ]
  },
  {
   "attachments": {},
   "cell_type": "markdown",
   "metadata": {},
   "source": [
    "<h1>hw_1 - (3)</h1>\n",
    "<h3>KNN 알고리즘 모델 만들기, K 값은 3을 사용</h3>\n",
    "<!-- KNN 모델 훈련 -->"
   ]
  },
  {
   "cell_type": "code",
   "execution_count": 51,
   "metadata": {},
   "outputs": [
    {
     "name": "stdout",
     "output_type": "stream",
     "text": [
      "0.9385964912280702\n"
     ]
    }
   ],
   "source": [
    "from sklearn.neighbors import KNeighborsClassifier\n",
    "\n",
    "## n_neighbors == k\n",
    "mymodel = KNeighborsClassifier(n_neighbors=3)\n",
    "mymodel.fit(X_train, y_train.values.ravel())\n",
    "\n",
    "# 예측\n",
    "prediction = mymodel.predict(X_test)\n",
    "\n",
    "mymodel.score(X_test, y_test)\n",
    "\n",
    "print(mymodel.score(X_test, y_test))"
   ]
  },
  {
   "attachments": {},
   "cell_type": "markdown",
   "metadata": {},
   "source": [
    "<h1>시드 값 찾기</h1>\n",
    "<h3>원하는 결괏값을 도출해 내는 random_state 값 찾기</h3>"
   ]
  },
  {
   "cell_type": "code",
   "execution_count": 52,
   "metadata": {},
   "outputs": [
    {
     "name": "stdout",
     "output_type": "stream",
     "text": [
      "6\n"
     ]
    }
   ],
   "source": [
    "# <무한 범위>\n",
    "## def infinite() :\n",
    "##     value = 0    \n",
    "##     while True :\n",
    "##         yield value        \n",
    "##         value += 1\n",
    "        \n",
    "# <50까지의 범위로 실습> \n",
    "def find_random_state() :\n",
    "    target_score = 0.9385964912280702\n",
    "    \n",
    "    for random_state in range(50):\n",
    "        X_train, X_test, y_train, y_test = train_test_split(df_data, df_labels, test_size=0.2, random_state=random_state)\n",
    "        \n",
    "        mymodel = KNeighborsClassifier(n_neighbors=3)\n",
    "        mymodel.fit(X_train, y_train.values.ravel())\n",
    "        \n",
    "        score = mymodel.score(X_test, y_test)\n",
    "        \n",
    "        if (round(score, 16) == target_score) :\n",
    "            target_random_state = random_state\n",
    "            return target_random_state\n",
    "            break\n",
    "            \n",
    "        else :\n",
    "            continue\n",
    "\n",
    "print(find_random_state())\n",
    "## print(find_random_state()) <-- 도출된 random_state값 확인 가능"
   ]
  },
  {
   "attachments": {},
   "cell_type": "markdown",
   "metadata": {},
   "source": [
    "<h1>전체 코드</h1>"
   ]
  },
  {
   "cell_type": "code",
   "execution_count": 53,
   "metadata": {},
   "outputs": [
    {
     "name": "stdout",
     "output_type": "stream",
     "text": [
      "X_train.shape : (455, 30)\n",
      "y_train.shape : (455, 1)\n",
      "X_test.shape : (114, 30)\n",
      "y_test.shape : (114, 1)\n",
      "0.9385964912280702\n"
     ]
    }
   ],
   "source": [
    "from sklearn.datasets import load_breast_cancer\n",
    "import pandas as pd\n",
    "from sklearn.model_selection import train_test_split\n",
    "from sklearn.neighbors import KNeighborsClassifier\n",
    "\n",
    "def find_random_state() :\n",
    "    target_score = 0.9385964912280702\n",
    "    \n",
    "    for random_state in range(50):\n",
    "        X_train, X_test, y_train, y_test = train_test_split(df_data, df_labels, test_size=0.2, random_state=random_state)\n",
    "        \n",
    "        mymodel = KNeighborsClassifier(n_neighbors=3)\n",
    "        mymodel.fit(X_train, y_train.values.ravel())\n",
    "        \n",
    "        score = mymodel.score(X_test, y_test)\n",
    "        \n",
    "        if (round(score, 16) == target_score) :\n",
    "            target_random_state = random_state\n",
    "            return target_random_state\n",
    "            break\n",
    "            \n",
    "        else :\n",
    "            continue\n",
    "        \n",
    "breast_cancer_data = load_breast_cancer()\n",
    "\n",
    "df_data = pd.DataFrame(breast_cancer_data.data)\n",
    "df_labels = pd.DataFrame(breast_cancer_data.target)\n",
    "\n",
    "df_data.sample(n = 10)\n",
    "df_labels.sample(n = 10)\n",
    "\n",
    "X_train, X_test, y_train, y_test = train_test_split(df_data, df_labels, test_size=0.2, random_state=find_random_state())\n",
    "\n",
    "print(\"X_train.shape :\", X_train.shape)\n",
    "print(\"y_train.shape :\", y_train.shape)\n",
    "print(\"X_test.shape :\", X_test.shape)\n",
    "print(\"y_test.shape :\", y_test.shape)\n",
    "\n",
    "mymodel = KNeighborsClassifier(n_neighbors=3)\n",
    "mymodel.fit(X_train, y_train.values.ravel())\n",
    "\n",
    "# 예측\n",
    "prediction = mymodel.predict(X_test)\n",
    "\n",
    "print(mymodel.score(X_test, y_test))"
   ]
  },
  {
   "attachments": {},
   "cell_type": "markdown",
   "metadata": {},
   "source": [
    "<h1>hw_2</h2>\n",
    "<h3>Accuracy 증가시키기 (1)</h3>"
   ]
  },
  {
   "cell_type": "code",
   "execution_count": 54,
   "metadata": {},
   "outputs": [
    {
     "data": {
      "image/png": "[encoded data removed]",
      "text/plain": [
       "<Figure size 640x480 with 1 Axes>"
      ]
     },
     "metadata": {},
     "output_type": "display_data"
    }
   ],
   "source": [
    "import matplotlib.pyplot as plt\n",
    "\n",
    "k_range = range(1, 201)\n",
    "find_accuracy = []\n",
    "\n",
    "for k in k_range:\n",
    "  find_model = KNeighborsClassifier(n_neighbors = k)\n",
    "  find_model.fit(X_train, y_train.values.ravel())\n",
    "\n",
    "  find_accuracy.append(find_model.score(X_test, y_test))\n",
    "  \n",
    "plt.plot(k_range, find_accuracy, label=\"training accuracy\")\n",
    "plt.xlabel(\"k value\")\n",
    "plt.ylabel(\"Accuracy\")\n",
    "plt.title(\"Find Breast Cancer Classifier Accuracy\")\n",
    "plt.show()"
   ]
  },
  {
   "cell_type": "markdown",
   "metadata": {},
   "source": []
  },
  {
   "attachments": {},
   "cell_type": "markdown",
   "metadata": {},
   "source": [
    "<h3>도출된 결과에 대한 검증</h3>"
   ]
  },
  {
   "attachments": {},
   "cell_type": "markdown",
   "metadata": {},
   "source": [
    "<h4>정확도가 최대가 되는 순간 찾기</h4>"
   ]
  },
  {
   "cell_type": "code",
   "execution_count": 55,
   "metadata": {},
   "outputs": [
    {
     "name": "stdout",
     "output_type": "stream",
     "text": [
      "18\n"
     ]
    }
   ],
   "source": [
    "import numpy as np\n",
    "\n",
    "max_accuracy = np.max(find_accuracy)\n",
    "max_index = find_accuracy.index(max_accuracy)\n",
    "max_k = k_range[max_index]\n",
    "\n",
    "print(max_k)"
   ]
  },
  {
   "attachments": {},
   "cell_type": "markdown",
   "metadata": {},
   "source": [
    "<h4>검증 (k == 18에서 가장 높은 정확성을 가짐)</h4>"
   ]
  },
  {
   "cell_type": "code",
   "execution_count": 56,
   "metadata": {},
   "outputs": [
    {
     "name": "stdout",
     "output_type": "stream",
     "text": [
      "[1] :  0.9210526315789473\n",
      "[2] :  0.9210526315789473\n",
      "[3] :  0.9385964912280702\n",
      "[4] :  0.9298245614035088\n",
      "[5] :  0.9385964912280702\n",
      "[6] :  0.9385964912280702\n",
      "[7] :  0.9385964912280702\n",
      "[8] :  0.9385964912280702\n",
      "[9] :  0.9473684210526315\n",
      "[10] :  0.9473684210526315\n",
      "[11] :  0.956140350877193\n",
      "[12] :  0.9473684210526315\n",
      "[13] :  0.9473684210526315\n",
      "[14] :  0.9473684210526315\n",
      "[15] :  0.9473684210526315\n",
      "[16] :  0.9473684210526315\n",
      "[17] :  0.9473684210526315\n",
      "[18] :  0.9649122807017544\n",
      "[19] :  0.956140350877193\n",
      "[20] :  0.956140350877193\n",
      "[21] :  0.956140350877193\n",
      "[22] :  0.956140350877193\n",
      "[23] :  0.9385964912280702\n",
      "[24] :  0.956140350877193\n",
      "[25] :  0.9298245614035088\n"
     ]
    }
   ],
   "source": [
    "## 유의미한 0 ~ 25 구간에서의 검증\n",
    "for find_k in range(1, 26) :\n",
    "    advanced_mymodel = KNeighborsClassifier(n_neighbors=find_k)\n",
    "    advanced_mymodel.fit(X_train, y_train.values.ravel())\n",
    "\n",
    "    accuracy_result = advanced_mymodel.score(X_test, y_test)\n",
    "    \n",
    "    print(\"[%d] : \" % find_k, accuracy_result)"
   ]
  },
  {
   "attachments": {},
   "cell_type": "markdown",
   "metadata": {},
   "source": [
    "<h3>Accuracy 증가시키기 (2)</h3>"
   ]
  },
  {
   "attachments": {},
   "cell_type": "markdown",
   "metadata": {},
   "source": [
    "<h4>데이터의 전처리(min-max-normalization)</h4>\n",
    "<a href=\"https://hanstar4.tistory.com/17\">참고 링크</a>"
   ]
  },
  {
   "cell_type": "code",
   "execution_count": 57,
   "metadata": {},
   "outputs": [],
   "source": [
    "X_train, X_test, y_train, y_test = train_test_split(df_data, df_labels, test_size=0.2, random_state=6)"
   ]
  },
  {
   "attachments": {},
   "cell_type": "markdown",
   "metadata": {},
   "source": [
    "<h5>min-max-normalization</h5>"
   ]
  },
  {
   "cell_type": "code",
   "execution_count": 58,
   "metadata": {},
   "outputs": [
    {
     "name": "stdout",
     "output_type": "stream",
     "text": [
      "(455, 30)\n"
     ]
    }
   ],
   "source": [
    "min_X_train = X_train.min(axis=0)\n",
    "max_X_train = X_train.max(axis=0)\n",
    "scaled_X_train = (X_train - min_X_train) / (max_X_train - min_X_train)\n",
    "\n",
    "print(scaled_X_train.shape)"
   ]
  },
  {
   "cell_type": "code",
   "execution_count": 59,
   "metadata": {},
   "outputs": [
    {
     "name": "stdout",
     "output_type": "stream",
     "text": [
      "(114, 30)\n"
     ]
    }
   ],
   "source": [
    "min_X_test = X_test.min(axis=0)\n",
    "max_X_test = X_test.max(axis=0)\n",
    "scaled_X_test = (X_test - min_X_test) / (max_X_test - min_X_test)\n",
    "\n",
    "print(scaled_X_test.shape)"
   ]
  },
  {
   "attachments": {},
   "cell_type": "markdown",
   "metadata": {},
   "source": [
    "<h5>데이터의 전처리 이후 도출된 정확도</h5>"
   ]
  },
  {
   "cell_type": "code",
   "execution_count": 60,
   "metadata": {},
   "outputs": [
    {
     "name": "stdout",
     "output_type": "stream",
     "text": [
      "0.9122807017543859\n"
     ]
    }
   ],
   "source": [
    "scaled_model = KNeighborsClassifier(n_neighbors=3)\n",
    "scaled_model.fit(scaled_X_train, y_train.values.ravel())\n",
    "prediction = scaled_model.predict(scaled_X_test)\n",
    "\n",
    "scaled_accuracy = scaled_model.score(scaled_X_test, y_test)\n",
    "\n",
    "print(scaled_accuracy)"
   ]
  },
  {
   "attachments": {},
   "cell_type": "markdown",
   "metadata": {},
   "source": [
    "<h4>데이터의 전처리(z-score-normalization)</h4>\n",
    "\n",
    "<a href=\"https://ko.wikipedia.org/wiki/%ED%91%9C%EC%A4%80_%EC%A0%90%EC%88%98\">참고 링크(1)</a>\n",
    "<a href=\"https://rebro.kr/183\">참고 링크 (2)</a>"
   ]
  },
  {
   "attachments": {},
   "cell_type": "markdown",
   "metadata": {},
   "source": [
    "<h5>평균 및 표준편차 계산</h5>"
   ]
  },
  {
   "cell_type": "code",
   "execution_count": 65,
   "metadata": {},
   "outputs": [],
   "source": [
    "mean = np.mean(X_train, axis=0)\n",
    "std = np.std(X_train, axis=0)"
   ]
  },
  {
   "attachments": {},
   "cell_type": "markdown",
   "metadata": {},
   "source": [
    "<h5>z-score-normalization</h5>"
   ]
  },
  {
   "cell_type": "code",
   "execution_count": 68,
   "metadata": {},
   "outputs": [],
   "source": [
    "z_scaled_X_train = (X_train - mean) / std\n",
    "z_scaled_X_test = (X_test - mean) / std"
   ]
  },
  {
   "attachments": {},
   "cell_type": "markdown",
   "metadata": {},
   "source": [
    "<h5>데이터의 전처리 이후 도출된 정확도</h5>"
   ]
  },
  {
   "cell_type": "code",
   "execution_count": 69,
   "metadata": {},
   "outputs": [
    {
     "name": "stdout",
     "output_type": "stream",
     "text": [
      "0.9649122807017544\n"
     ]
    }
   ],
   "source": [
    "z_scaled_model = KNeighborsClassifier(n_neighbors=3)\n",
    "z_scaled_model.fit(z_scaled_X_train, y_train.values.ravel())\n",
    "prediction = z_scaled_model.predict(z_scaled_X_test)\n",
    "\n",
    "z_scaled_accuracy = z_scaled_model.score(z_scaled_X_test, y_test)\n",
    "\n",
    "print(z_scaled_accuracy)"
   ]
  }
 ],
 "metadata": {
  "kernelspec": {
   "display_name": "Python 3",
   "language": "python",
   "name": "python3"
  },
  "language_info": {
   "codemirror_mode": {
    "name": "ipython",
    "version": 3
   },
   "file_extension": ".py",
   "mimetype": "text/x-python",
   "name": "python",
   "nbconvert_exporter": "python",
   "pygments_lexer": "ipython3",
   "version": "3.10.5"
  },
  "orig_nbformat": 4
 },
 "nbformat": 4,
 "nbformat_minor": 2
}
