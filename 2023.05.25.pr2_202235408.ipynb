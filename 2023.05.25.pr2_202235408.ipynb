{
 "cells": [
  {
   "attachments": {},
   "cell_type": "markdown",
   "metadata": {},
   "source": [
    "<h1>2023.05.25. 강의 시간내 실습</h1>"
   ]
  },
  {
   "cell_type": "code",
   "execution_count": 95,
   "metadata": {},
   "outputs": [],
   "source": [
    "import matplotlib.pyplot as plt\n",
    "import numpy as np\n",
    "import pandas as pd\n",
    "import seaborn as sns\n",
    "from sklearn.model_selection import train_test_split\n",
    "from sklearn.linear_model import LinearRegression\n",
    "from sklearn.metrics import mean_squared_error, r2_score\n",
    "from keras.utils import to_categorical\n",
    "from sklearn import metrics\n",
    "import tensorflow as tf\n",
    "from tensorflow import keras\n",
    "from tensorflow.keras import layers\n",
    "from sklearn.preprocessing import MinMaxScaler"
   ]
  },
  {
   "cell_type": "code",
   "execution_count": 96,
   "metadata": {},
   "outputs": [],
   "source": [
    "url = 'http://archive.ics.uci.edu/ml/machine-learning-databases/auto-mpg/auto-mpg.data'\n",
    "column_names = ['MPG', 'Cylinders', 'Displacement', 'Horsepower', 'Weight', 'Acceleration', 'Model Year', 'Origin']\n",
    "\n",
    "dataset = pd.read_csv(url, names=column_names, na_values='?', comment='\\t', sep=' ', skipinitialspace=True)"
   ]
  },
  {
   "cell_type": "code",
   "execution_count": 97,
   "metadata": {},
   "outputs": [
    {
     "data": {
      "text/html": [
       "<div>\n",
       "<style scoped>\n",
       "    .dataframe tbody tr th:only-of-type {\n",
       "        vertical-align: middle;\n",
       "    }\n",
       "\n",
       "    .dataframe tbody tr th {\n",
       "        vertical-align: top;\n",
       "    }\n",
       "\n",
       "    .dataframe thead th {\n",
       "        text-align: right;\n",
       "    }\n",
       "</style>\n",
       "<table border=\"1\" class=\"dataframe\">\n",
       "  <thead>\n",
       "    <tr style=\"text-align: right;\">\n",
       "      <th></th>\n",
       "      <th>MPG</th>\n",
       "      <th>Cylinders</th>\n",
       "      <th>Displacement</th>\n",
       "      <th>Horsepower</th>\n",
       "      <th>Weight</th>\n",
       "      <th>Acceleration</th>\n",
       "      <th>Model Year</th>\n",
       "      <th>Origin</th>\n",
       "    </tr>\n",
       "  </thead>\n",
       "  <tbody>\n",
       "    <tr>\n",
       "      <th>0</th>\n",
       "      <td>18.0</td>\n",
       "      <td>8</td>\n",
       "      <td>307.0</td>\n",
       "      <td>130.0</td>\n",
       "      <td>3504.0</td>\n",
       "      <td>12.0</td>\n",
       "      <td>70</td>\n",
       "      <td>1</td>\n",
       "    </tr>\n",
       "    <tr>\n",
       "      <th>1</th>\n",
       "      <td>15.0</td>\n",
       "      <td>8</td>\n",
       "      <td>350.0</td>\n",
       "      <td>165.0</td>\n",
       "      <td>3693.0</td>\n",
       "      <td>11.5</td>\n",
       "      <td>70</td>\n",
       "      <td>1</td>\n",
       "    </tr>\n",
       "    <tr>\n",
       "      <th>2</th>\n",
       "      <td>18.0</td>\n",
       "      <td>8</td>\n",
       "      <td>318.0</td>\n",
       "      <td>150.0</td>\n",
       "      <td>3436.0</td>\n",
       "      <td>11.0</td>\n",
       "      <td>70</td>\n",
       "      <td>1</td>\n",
       "    </tr>\n",
       "    <tr>\n",
       "      <th>3</th>\n",
       "      <td>16.0</td>\n",
       "      <td>8</td>\n",
       "      <td>304.0</td>\n",
       "      <td>150.0</td>\n",
       "      <td>3433.0</td>\n",
       "      <td>12.0</td>\n",
       "      <td>70</td>\n",
       "      <td>1</td>\n",
       "    </tr>\n",
       "    <tr>\n",
       "      <th>4</th>\n",
       "      <td>17.0</td>\n",
       "      <td>8</td>\n",
       "      <td>302.0</td>\n",
       "      <td>140.0</td>\n",
       "      <td>3449.0</td>\n",
       "      <td>10.5</td>\n",
       "      <td>70</td>\n",
       "      <td>1</td>\n",
       "    </tr>\n",
       "    <tr>\n",
       "      <th>...</th>\n",
       "      <td>...</td>\n",
       "      <td>...</td>\n",
       "      <td>...</td>\n",
       "      <td>...</td>\n",
       "      <td>...</td>\n",
       "      <td>...</td>\n",
       "      <td>...</td>\n",
       "      <td>...</td>\n",
       "    </tr>\n",
       "    <tr>\n",
       "      <th>393</th>\n",
       "      <td>27.0</td>\n",
       "      <td>4</td>\n",
       "      <td>140.0</td>\n",
       "      <td>86.0</td>\n",
       "      <td>2790.0</td>\n",
       "      <td>15.6</td>\n",
       "      <td>82</td>\n",
       "      <td>1</td>\n",
       "    </tr>\n",
       "    <tr>\n",
       "      <th>394</th>\n",
       "      <td>44.0</td>\n",
       "      <td>4</td>\n",
       "      <td>97.0</td>\n",
       "      <td>52.0</td>\n",
       "      <td>2130.0</td>\n",
       "      <td>24.6</td>\n",
       "      <td>82</td>\n",
       "      <td>2</td>\n",
       "    </tr>\n",
       "    <tr>\n",
       "      <th>395</th>\n",
       "      <td>32.0</td>\n",
       "      <td>4</td>\n",
       "      <td>135.0</td>\n",
       "      <td>84.0</td>\n",
       "      <td>2295.0</td>\n",
       "      <td>11.6</td>\n",
       "      <td>82</td>\n",
       "      <td>1</td>\n",
       "    </tr>\n",
       "    <tr>\n",
       "      <th>396</th>\n",
       "      <td>28.0</td>\n",
       "      <td>4</td>\n",
       "      <td>120.0</td>\n",
       "      <td>79.0</td>\n",
       "      <td>2625.0</td>\n",
       "      <td>18.6</td>\n",
       "      <td>82</td>\n",
       "      <td>1</td>\n",
       "    </tr>\n",
       "    <tr>\n",
       "      <th>397</th>\n",
       "      <td>31.0</td>\n",
       "      <td>4</td>\n",
       "      <td>119.0</td>\n",
       "      <td>82.0</td>\n",
       "      <td>2720.0</td>\n",
       "      <td>19.4</td>\n",
       "      <td>82</td>\n",
       "      <td>1</td>\n",
       "    </tr>\n",
       "  </tbody>\n",
       "</table>\n",
       "<p>398 rows × 8 columns</p>\n",
       "</div>"
      ],
      "text/plain": [
       "      MPG  Cylinders  Displacement  Horsepower  Weight  Acceleration  \\\n",
       "0    18.0          8         307.0       130.0  3504.0          12.0   \n",
       "1    15.0          8         350.0       165.0  3693.0          11.5   \n",
       "2    18.0          8         318.0       150.0  3436.0          11.0   \n",
       "3    16.0          8         304.0       150.0  3433.0          12.0   \n",
       "4    17.0          8         302.0       140.0  3449.0          10.5   \n",
       "..    ...        ...           ...         ...     ...           ...   \n",
       "393  27.0          4         140.0        86.0  2790.0          15.6   \n",
       "394  44.0          4          97.0        52.0  2130.0          24.6   \n",
       "395  32.0          4         135.0        84.0  2295.0          11.6   \n",
       "396  28.0          4         120.0        79.0  2625.0          18.6   \n",
       "397  31.0          4         119.0        82.0  2720.0          19.4   \n",
       "\n",
       "     Model Year  Origin  \n",
       "0            70       1  \n",
       "1            70       1  \n",
       "2            70       1  \n",
       "3            70       1  \n",
       "4            70       1  \n",
       "..          ...     ...  \n",
       "393          82       1  \n",
       "394          82       2  \n",
       "395          82       1  \n",
       "396          82       1  \n",
       "397          82       1  \n",
       "\n",
       "[398 rows x 8 columns]"
      ]
     },
     "execution_count": 97,
     "metadata": {},
     "output_type": "execute_result"
    }
   ],
   "source": [
    "dataset"
   ]
  },
  {
   "cell_type": "code",
   "execution_count": 98,
   "metadata": {},
   "outputs": [
    {
     "data": {
      "text/plain": [
       "MPG             0\n",
       "Cylinders       0\n",
       "Displacement    0\n",
       "Horsepower      6\n",
       "Weight          0\n",
       "Acceleration    0\n",
       "Model Year      0\n",
       "Origin          0\n",
       "dtype: int64"
      ]
     },
     "execution_count": 98,
     "metadata": {},
     "output_type": "execute_result"
    }
   ],
   "source": [
    "dataset.isnull().sum()"
   ]
  },
  {
   "cell_type": "code",
   "execution_count": 99,
   "metadata": {},
   "outputs": [],
   "source": [
    "dataset = dataset.fillna(dataset.mean())"
   ]
  },
  {
   "cell_type": "code",
   "execution_count": 100,
   "metadata": {},
   "outputs": [
    {
     "data": {
      "text/plain": [
       "MPG             0\n",
       "Cylinders       0\n",
       "Displacement    0\n",
       "Horsepower      0\n",
       "Weight          0\n",
       "Acceleration    0\n",
       "Model Year      0\n",
       "Origin          0\n",
       "dtype: int64"
      ]
     },
     "execution_count": 100,
     "metadata": {},
     "output_type": "execute_result"
    }
   ],
   "source": [
    "dataset.isnull().sum()"
   ]
  },
  {
   "cell_type": "code",
   "execution_count": 101,
   "metadata": {},
   "outputs": [],
   "source": [
    "X = dataset.iloc[:,0:7].values\n",
    "y = dataset.iloc[:,7].values\n",
    "\n",
    "from sklearn.preprocessing import LabelEncoder\n",
    "encoder =  LabelEncoder()\n",
    "y1 = encoder.fit_transform(y)\n",
    "\n",
    "Y = pd.get_dummies(y1).values\n",
    "\n",
    "\n",
    "from sklearn.model_selection import train_test_split\n",
    "X_train,X_test, y_train,y_test = train_test_split(X,Y,test_size=0.2,random_state=0) "
   ]
  },
  {
   "cell_type": "code",
   "execution_count": 102,
   "metadata": {},
   "outputs": [],
   "source": [
    "n_features = 1\n",
    "X = X.reshape((X.shape[0], X.shape[1], n_features))"
   ]
  },
  {
   "cell_type": "code",
   "execution_count": 103,
   "metadata": {},
   "outputs": [
    {
     "data": {
      "text/plain": [
       "(398, 7, 1)"
      ]
     },
     "execution_count": 103,
     "metadata": {},
     "output_type": "execute_result"
    }
   ],
   "source": [
    "X.shape"
   ]
  },
  {
   "cell_type": "code",
   "execution_count": null,
   "metadata": {},
   "outputs": [],
   "source": [
    "encoder = LabelEncoder()\n",
    "\n",
    "y_encoded = encoder.fit_transform(y)\n",
    "\n",
    "y_one_hot = to_categorical(y_encoded)"
   ]
  },
  {
   "cell_type": "code",
   "execution_count": 106,
   "metadata": {},
   "outputs": [],
   "source": [
    "from sklearn.model_selection import train_test_split\n",
    "\n",
    "X_train, X_test, y_train, y_test = train_test_split(X, y_one_hot, test_size=0.2, random_state=0)"
   ]
  },
  {
   "cell_type": "code",
   "execution_count": 107,
   "metadata": {},
   "outputs": [
    {
     "data": {
      "text/plain": [
       "7"
      ]
     },
     "execution_count": 107,
     "metadata": {},
     "output_type": "execute_result"
    }
   ],
   "source": [
    "n_steps = X.shape[1]\n",
    "n_steps"
   ]
  },
  {
   "cell_type": "code",
   "execution_count": 108,
   "metadata": {},
   "outputs": [],
   "source": [
    "from keras.models import Sequential\n",
    "from keras.layers import Dense\n",
    "from keras.layers import Flatten\n",
    "from keras.optimizers import SGD, Adam\n",
    "from keras.layers.convolutional import Conv1D\n",
    "from keras.layers.convolutional import MaxPooling1D"
   ]
  },
  {
   "cell_type": "code",
   "execution_count": 119,
   "metadata": {},
   "outputs": [
    {
     "name": "stdout",
     "output_type": "stream",
     "text": [
      "input_shape =>  7 1\n",
      "Model: \"sequential_10\"\n",
      "_________________________________________________________________\n",
      " Layer (type)                Output Shape              Param #   \n",
      "=================================================================\n",
      " conv1d_10 (Conv1D)          (None, 6, 64)             192       \n",
      "                                                                 \n",
      " max_pooling1d_10 (MaxPoolin  (None, 3, 64)            0         \n",
      " g1D)                                                            \n",
      "                                                                 \n",
      " flatten_10 (Flatten)        (None, 192)               0         \n",
      "                                                                 \n",
      " dense_28 (Dense)            (None, 50)                9650      \n",
      "                                                                 \n",
      " dense_29 (Dense)            (None, 40)                2040      \n",
      "                                                                 \n",
      " dense_30 (Dense)            (None, 20)                820       \n",
      "                                                                 \n",
      " dense_31 (Dense)            (None, 10)                210       \n",
      "                                                                 \n",
      " dense_32 (Dense)            (None, 3)                 33        \n",
      "                                                                 \n",
      "=================================================================\n",
      "Total params: 12,945\n",
      "Trainable params: 12,945\n",
      "Non-trainable params: 0\n",
      "_________________________________________________________________\n"
     ]
    }
   ],
   "source": [
    "def build_model(): \n",
    "    model = Sequential()\n",
    "    model.add(Conv1D(filters=64, kernel_size=2, activation='relu', input_shape=(n_steps, n_features)))\n",
    "    model.add(MaxPooling1D(pool_size=2))\n",
    "    model.add(Flatten())\n",
    "    model.add(Dense(50, activation='relu'))\n",
    "    model.add(Dense(40, activation='tanh'))\n",
    "    model.add(Dense(20, activation='relu'))\n",
    "    model.add(Dense(10, activation='tanh'))\n",
    "    model.add(Dense(3, activation='sigmoid'))\n",
    "    model.compile(optimizer='rmsprop', loss='mse', metrics = ['mae'])\n",
    "    \n",
    "    return model\n",
    "\n",
    "model = build_model() \n",
    "print(\"input_shape => \", n_steps, n_features)\n",
    "model.summary()"
   ]
  },
  {
   "cell_type": "code",
   "execution_count": 120,
   "metadata": {},
   "outputs": [
    {
     "name": "stdout",
     "output_type": "stream",
     "text": [
      "Epoch 1/100\n",
      "4/4 [==============================] - 1s 54ms/step - loss: 0.2261 - mae: 0.4612 - val_loss: 0.2040 - val_mae: 0.4258\n",
      "Epoch 2/100\n",
      "4/4 [==============================] - 0s 12ms/step - loss: 0.2039 - mae: 0.4249 - val_loss: 0.1956 - val_mae: 0.4131\n",
      "Epoch 3/100\n",
      "4/4 [==============================] - 0s 13ms/step - loss: 0.1952 - mae: 0.4109 - val_loss: 0.1916 - val_mae: 0.4034\n",
      "Epoch 4/100\n",
      "4/4 [==============================] - 0s 14ms/step - loss: 0.1913 - mae: 0.4002 - val_loss: 0.1886 - val_mae: 0.3965\n",
      "Epoch 5/100\n",
      "4/4 [==============================] - 0s 15ms/step - loss: 0.1891 - mae: 0.3986 - val_loss: 0.1880 - val_mae: 0.3892\n",
      "Epoch 6/100\n",
      "4/4 [==============================] - 0s 14ms/step - loss: 0.1874 - mae: 0.3877 - val_loss: 0.1869 - val_mae: 0.3863\n",
      "Epoch 7/100\n",
      "4/4 [==============================] - 0s 13ms/step - loss: 0.1863 - mae: 0.3859 - val_loss: 0.1861 - val_mae: 0.3826\n",
      "Epoch 8/100\n",
      "4/4 [==============================] - 0s 12ms/step - loss: 0.1853 - mae: 0.3812 - val_loss: 0.1853 - val_mae: 0.3805\n",
      "Epoch 9/100\n",
      "4/4 [==============================] - 0s 13ms/step - loss: 0.1849 - mae: 0.3816 - val_loss: 0.1854 - val_mae: 0.3775\n",
      "Epoch 10/100\n",
      "4/4 [==============================] - 0s 13ms/step - loss: 0.1845 - mae: 0.3783 - val_loss: 0.1857 - val_mae: 0.3755\n",
      "Epoch 11/100\n",
      "4/4 [==============================] - 0s 12ms/step - loss: 0.1836 - mae: 0.3719 - val_loss: 0.1848 - val_mae: 0.3767\n",
      "Epoch 12/100\n",
      "4/4 [==============================] - 0s 12ms/step - loss: 0.1835 - mae: 0.3750 - val_loss: 0.1845 - val_mae: 0.3743\n",
      "Epoch 13/100\n",
      "4/4 [==============================] - 0s 15ms/step - loss: 0.1834 - mae: 0.3708 - val_loss: 0.1848 - val_mae: 0.3747\n",
      "Epoch 14/100\n",
      "4/4 [==============================] - 0s 17ms/step - loss: 0.1829 - mae: 0.3731 - val_loss: 0.1849 - val_mae: 0.3716\n",
      "Epoch 15/100\n",
      "4/4 [==============================] - 0s 14ms/step - loss: 0.1827 - mae: 0.3689 - val_loss: 0.1851 - val_mae: 0.3720\n",
      "Epoch 16/100\n",
      "4/4 [==============================] - 0s 14ms/step - loss: 0.1831 - mae: 0.3663 - val_loss: 0.1849 - val_mae: 0.3732\n",
      "Epoch 17/100\n",
      "4/4 [==============================] - 0s 11ms/step - loss: 0.1827 - mae: 0.3694 - val_loss: 0.1857 - val_mae: 0.3718\n",
      "Epoch 18/100\n",
      "4/4 [==============================] - 0s 11ms/step - loss: 0.1835 - mae: 0.3646 - val_loss: 0.1853 - val_mae: 0.3722\n",
      "Epoch 19/100\n",
      "4/4 [==============================] - 0s 12ms/step - loss: 0.1833 - mae: 0.3674 - val_loss: 0.1851 - val_mae: 0.3716\n",
      "Epoch 20/100\n",
      "4/4 [==============================] - 0s 11ms/step - loss: 0.1834 - mae: 0.3686 - val_loss: 0.1851 - val_mae: 0.3694\n",
      "Epoch 21/100\n",
      "4/4 [==============================] - 0s 12ms/step - loss: 0.1831 - mae: 0.3693 - val_loss: 0.1855 - val_mae: 0.3673\n",
      "Epoch 22/100\n",
      "4/4 [==============================] - 0s 12ms/step - loss: 0.1827 - mae: 0.3646 - val_loss: 0.1854 - val_mae: 0.3681\n",
      "Epoch 23/100\n",
      "4/4 [==============================] - 0s 11ms/step - loss: 0.1831 - mae: 0.3634 - val_loss: 0.1856 - val_mae: 0.3689\n",
      "Epoch 24/100\n",
      "4/4 [==============================] - 0s 11ms/step - loss: 0.1827 - mae: 0.3643 - val_loss: 0.1853 - val_mae: 0.3694\n",
      "Epoch 25/100\n",
      "4/4 [==============================] - 0s 11ms/step - loss: 0.1829 - mae: 0.3641 - val_loss: 0.1855 - val_mae: 0.3707\n",
      "Epoch 26/100\n",
      "4/4 [==============================] - 0s 12ms/step - loss: 0.1828 - mae: 0.3679 - val_loss: 0.1862 - val_mae: 0.3693\n",
      "Epoch 27/100\n",
      "4/4 [==============================] - 0s 11ms/step - loss: 0.1834 - mae: 0.3662 - val_loss: 0.1859 - val_mae: 0.3694\n",
      "Epoch 28/100\n",
      "4/4 [==============================] - 0s 13ms/step - loss: 0.1829 - mae: 0.3656 - val_loss: 0.1855 - val_mae: 0.3693\n",
      "Epoch 29/100\n",
      "4/4 [==============================] - 0s 11ms/step - loss: 0.1830 - mae: 0.3663 - val_loss: 0.1863 - val_mae: 0.3691\n",
      "Epoch 30/100\n",
      "4/4 [==============================] - 0s 11ms/step - loss: 0.1830 - mae: 0.3668 - val_loss: 0.1864 - val_mae: 0.3680\n",
      "Epoch 31/100\n",
      "4/4 [==============================] - 0s 12ms/step - loss: 0.1830 - mae: 0.3650 - val_loss: 0.1861 - val_mae: 0.3681\n",
      "Epoch 32/100\n",
      "4/4 [==============================] - 0s 12ms/step - loss: 0.1832 - mae: 0.3629 - val_loss: 0.1856 - val_mae: 0.3691\n",
      "Epoch 33/100\n",
      "4/4 [==============================] - 0s 12ms/step - loss: 0.1831 - mae: 0.3649 - val_loss: 0.1856 - val_mae: 0.3682\n",
      "Epoch 34/100\n",
      "4/4 [==============================] - 0s 14ms/step - loss: 0.1828 - mae: 0.3656 - val_loss: 0.1860 - val_mae: 0.3680\n",
      "Epoch 35/100\n",
      "4/4 [==============================] - 0s 12ms/step - loss: 0.1825 - mae: 0.3652 - val_loss: 0.1859 - val_mae: 0.3673\n",
      "Epoch 36/100\n",
      "4/4 [==============================] - 0s 11ms/step - loss: 0.1828 - mae: 0.3640 - val_loss: 0.1856 - val_mae: 0.3675\n",
      "Epoch 37/100\n",
      "4/4 [==============================] - 0s 11ms/step - loss: 0.1827 - mae: 0.3650 - val_loss: 0.1854 - val_mae: 0.3669\n",
      "Epoch 38/100\n",
      "4/4 [==============================] - 0s 12ms/step - loss: 0.1828 - mae: 0.3654 - val_loss: 0.1862 - val_mae: 0.3672\n",
      "Epoch 39/100\n",
      "4/4 [==============================] - 0s 12ms/step - loss: 0.1828 - mae: 0.3662 - val_loss: 0.1856 - val_mae: 0.3656\n",
      "Epoch 40/100\n",
      "4/4 [==============================] - 0s 11ms/step - loss: 0.1830 - mae: 0.3634 - val_loss: 0.1853 - val_mae: 0.3670\n",
      "Epoch 41/100\n",
      "4/4 [==============================] - 0s 12ms/step - loss: 0.1829 - mae: 0.3635 - val_loss: 0.1857 - val_mae: 0.3686\n",
      "Epoch 42/100\n",
      "4/4 [==============================] - 0s 11ms/step - loss: 0.1827 - mae: 0.3642 - val_loss: 0.1856 - val_mae: 0.3692\n",
      "Epoch 43/100\n",
      "4/4 [==============================] - 0s 12ms/step - loss: 0.1828 - mae: 0.3631 - val_loss: 0.1856 - val_mae: 0.3704\n",
      "Epoch 44/100\n",
      "4/4 [==============================] - 0s 11ms/step - loss: 0.1830 - mae: 0.3659 - val_loss: 0.1858 - val_mae: 0.3693\n",
      "Epoch 45/100\n",
      "4/4 [==============================] - 0s 18ms/step - loss: 0.1826 - mae: 0.3659 - val_loss: 0.1860 - val_mae: 0.3680\n",
      "Epoch 46/100\n",
      "4/4 [==============================] - 0s 12ms/step - loss: 0.1828 - mae: 0.3624 - val_loss: 0.1857 - val_mae: 0.3704\n",
      "Epoch 47/100\n",
      "4/4 [==============================] - 0s 11ms/step - loss: 0.1832 - mae: 0.3639 - val_loss: 0.1854 - val_mae: 0.3698\n",
      "Epoch 48/100\n",
      "4/4 [==============================] - 0s 11ms/step - loss: 0.1827 - mae: 0.3680 - val_loss: 0.1860 - val_mae: 0.3668\n",
      "Epoch 49/100\n",
      "4/4 [==============================] - 0s 12ms/step - loss: 0.1829 - mae: 0.3624 - val_loss: 0.1857 - val_mae: 0.3680\n",
      "Epoch 50/100\n",
      "4/4 [==============================] - 0s 11ms/step - loss: 0.1827 - mae: 0.3634 - val_loss: 0.1859 - val_mae: 0.3691\n",
      "Epoch 51/100\n",
      "4/4 [==============================] - 0s 11ms/step - loss: 0.1829 - mae: 0.3687 - val_loss: 0.1860 - val_mae: 0.3657\n",
      "Epoch 52/100\n",
      "4/4 [==============================] - 0s 14ms/step - loss: 0.1830 - mae: 0.3645 - val_loss: 0.1861 - val_mae: 0.3659\n",
      "Epoch 53/100\n",
      "4/4 [==============================] - 0s 12ms/step - loss: 0.1826 - mae: 0.3632 - val_loss: 0.1860 - val_mae: 0.3670\n",
      "Epoch 54/100\n",
      "4/4 [==============================] - 0s 11ms/step - loss: 0.1827 - mae: 0.3659 - val_loss: 0.1857 - val_mae: 0.3654\n",
      "Epoch 55/100\n",
      "4/4 [==============================] - 0s 12ms/step - loss: 0.1827 - mae: 0.3613 - val_loss: 0.1855 - val_mae: 0.3687\n",
      "Epoch 56/100\n",
      "4/4 [==============================] - 0s 12ms/step - loss: 0.1829 - mae: 0.3638 - val_loss: 0.1860 - val_mae: 0.3701\n",
      "Epoch 57/100\n",
      "4/4 [==============================] - 0s 13ms/step - loss: 0.1836 - mae: 0.3713 - val_loss: 0.1859 - val_mae: 0.3680\n",
      "Epoch 58/100\n",
      "4/4 [==============================] - 0s 11ms/step - loss: 0.1827 - mae: 0.3643 - val_loss: 0.1858 - val_mae: 0.3682\n",
      "Epoch 59/100\n",
      "4/4 [==============================] - 0s 11ms/step - loss: 0.1831 - mae: 0.3619 - val_loss: 0.1859 - val_mae: 0.3700\n",
      "Epoch 60/100\n",
      "4/4 [==============================] - 0s 11ms/step - loss: 0.1828 - mae: 0.3659 - val_loss: 0.1860 - val_mae: 0.3692\n",
      "Epoch 61/100\n",
      "4/4 [==============================] - 0s 12ms/step - loss: 0.1828 - mae: 0.3668 - val_loss: 0.1861 - val_mae: 0.3678\n",
      "Epoch 62/100\n",
      "4/4 [==============================] - 0s 12ms/step - loss: 0.1827 - mae: 0.3649 - val_loss: 0.1862 - val_mae: 0.3677\n",
      "Epoch 63/100\n",
      "4/4 [==============================] - 0s 12ms/step - loss: 0.1830 - mae: 0.3633 - val_loss: 0.1858 - val_mae: 0.3684\n",
      "Epoch 64/100\n",
      "4/4 [==============================] - 0s 11ms/step - loss: 0.1830 - mae: 0.3672 - val_loss: 0.1858 - val_mae: 0.3668\n",
      "Epoch 65/100\n",
      "4/4 [==============================] - 0s 11ms/step - loss: 0.1826 - mae: 0.3635 - val_loss: 0.1860 - val_mae: 0.3678\n",
      "Epoch 66/100\n",
      "4/4 [==============================] - 0s 11ms/step - loss: 0.1828 - mae: 0.3662 - val_loss: 0.1860 - val_mae: 0.3663\n",
      "Epoch 67/100\n",
      "4/4 [==============================] - 0s 11ms/step - loss: 0.1828 - mae: 0.3645 - val_loss: 0.1858 - val_mae: 0.3662\n",
      "Epoch 68/100\n",
      "4/4 [==============================] - 0s 11ms/step - loss: 0.1825 - mae: 0.3626 - val_loss: 0.1858 - val_mae: 0.3681\n",
      "Epoch 69/100\n",
      "4/4 [==============================] - 0s 11ms/step - loss: 0.1825 - mae: 0.3644 - val_loss: 0.1858 - val_mae: 0.3684\n",
      "Epoch 70/100\n",
      "4/4 [==============================] - 0s 21ms/step - loss: 0.1834 - mae: 0.3640 - val_loss: 0.1857 - val_mae: 0.3672\n",
      "Epoch 71/100\n",
      "4/4 [==============================] - 0s 13ms/step - loss: 0.1836 - mae: 0.3665 - val_loss: 0.1858 - val_mae: 0.3669\n",
      "Epoch 72/100\n",
      "4/4 [==============================] - 0s 11ms/step - loss: 0.1828 - mae: 0.3647 - val_loss: 0.1856 - val_mae: 0.3664\n",
      "Epoch 73/100\n",
      "4/4 [==============================] - 0s 12ms/step - loss: 0.1828 - mae: 0.3631 - val_loss: 0.1857 - val_mae: 0.3677\n",
      "Epoch 74/100\n",
      "4/4 [==============================] - 0s 11ms/step - loss: 0.1829 - mae: 0.3650 - val_loss: 0.1859 - val_mae: 0.3679\n",
      "Epoch 75/100\n",
      "4/4 [==============================] - 0s 12ms/step - loss: 0.1825 - mae: 0.3637 - val_loss: 0.1858 - val_mae: 0.3688\n",
      "Epoch 76/100\n",
      "4/4 [==============================] - 0s 12ms/step - loss: 0.1833 - mae: 0.3633 - val_loss: 0.1860 - val_mae: 0.3694\n",
      "Epoch 77/100\n",
      "4/4 [==============================] - 0s 11ms/step - loss: 0.1828 - mae: 0.3630 - val_loss: 0.1859 - val_mae: 0.3704\n",
      "Epoch 78/100\n",
      "4/4 [==============================] - 0s 11ms/step - loss: 0.1827 - mae: 0.3642 - val_loss: 0.1859 - val_mae: 0.3711\n",
      "Epoch 79/100\n",
      "4/4 [==============================] - 0s 12ms/step - loss: 0.1826 - mae: 0.3682 - val_loss: 0.1858 - val_mae: 0.3679\n",
      "Epoch 80/100\n",
      "4/4 [==============================] - 0s 12ms/step - loss: 0.1830 - mae: 0.3659 - val_loss: 0.1856 - val_mae: 0.3671\n",
      "Epoch 81/100\n",
      "4/4 [==============================] - 0s 12ms/step - loss: 0.1831 - mae: 0.3650 - val_loss: 0.1857 - val_mae: 0.3664\n",
      "Epoch 82/100\n",
      "4/4 [==============================] - 0s 11ms/step - loss: 0.1827 - mae: 0.3662 - val_loss: 0.1858 - val_mae: 0.3650\n",
      "Epoch 83/100\n",
      "4/4 [==============================] - 0s 12ms/step - loss: 0.1829 - mae: 0.3634 - val_loss: 0.1859 - val_mae: 0.3656\n",
      "Epoch 84/100\n",
      "4/4 [==============================] - 0s 11ms/step - loss: 0.1831 - mae: 0.3670 - val_loss: 0.1860 - val_mae: 0.3646\n",
      "Epoch 85/100\n",
      "4/4 [==============================] - 0s 11ms/step - loss: 0.1827 - mae: 0.3622 - val_loss: 0.1858 - val_mae: 0.3662\n",
      "Epoch 86/100\n",
      "4/4 [==============================] - 0s 11ms/step - loss: 0.1825 - mae: 0.3638 - val_loss: 0.1859 - val_mae: 0.3668\n",
      "Epoch 87/100\n",
      "4/4 [==============================] - 0s 11ms/step - loss: 0.1826 - mae: 0.3625 - val_loss: 0.1857 - val_mae: 0.3688\n",
      "Epoch 88/100\n",
      "4/4 [==============================] - 0s 12ms/step - loss: 0.1828 - mae: 0.3643 - val_loss: 0.1857 - val_mae: 0.3694\n",
      "Epoch 89/100\n",
      "4/4 [==============================] - 0s 11ms/step - loss: 0.1829 - mae: 0.3652 - val_loss: 0.1858 - val_mae: 0.3688\n",
      "Epoch 90/100\n",
      "4/4 [==============================] - 0s 12ms/step - loss: 0.1830 - mae: 0.3673 - val_loss: 0.1858 - val_mae: 0.3673\n",
      "Epoch 91/100\n",
      "4/4 [==============================] - 0s 12ms/step - loss: 0.1828 - mae: 0.3636 - val_loss: 0.1857 - val_mae: 0.3679\n",
      "Epoch 92/100\n",
      "4/4 [==============================] - 0s 11ms/step - loss: 0.1827 - mae: 0.3650 - val_loss: 0.1859 - val_mae: 0.3674\n",
      "Epoch 93/100\n",
      "4/4 [==============================] - 0s 12ms/step - loss: 0.1836 - mae: 0.3605 - val_loss: 0.1858 - val_mae: 0.3674\n",
      "Epoch 94/100\n",
      "4/4 [==============================] - 0s 11ms/step - loss: 0.1828 - mae: 0.3631 - val_loss: 0.1858 - val_mae: 0.3681\n",
      "Epoch 95/100\n",
      "4/4 [==============================] - 0s 12ms/step - loss: 0.1827 - mae: 0.3642 - val_loss: 0.1857 - val_mae: 0.3685\n",
      "Epoch 96/100\n",
      "4/4 [==============================] - 0s 11ms/step - loss: 0.1826 - mae: 0.3655 - val_loss: 0.1856 - val_mae: 0.3678\n",
      "Epoch 97/100\n",
      "4/4 [==============================] - 0s 11ms/step - loss: 0.1826 - mae: 0.3658 - val_loss: 0.1859 - val_mae: 0.3667\n",
      "Epoch 98/100\n",
      "4/4 [==============================] - 0s 16ms/step - loss: 0.1826 - mae: 0.3648 - val_loss: 0.1860 - val_mae: 0.3664\n",
      "Epoch 99/100\n",
      "4/4 [==============================] - 0s 14ms/step - loss: 0.1829 - mae: 0.3604 - val_loss: 0.1857 - val_mae: 0.3699\n",
      "Epoch 100/100\n",
      "4/4 [==============================] - 0s 11ms/step - loss: 0.1825 - mae: 0.3659 - val_loss: 0.1858 - val_mae: 0.3688\n"
     ]
    }
   ],
   "source": [
    "N_EPOCHS = 100\n",
    "\n",
    "history = model.fit(X_train, y_train, epochs = N_EPOCHS, batch_size=64, validation_split=0.2)"
   ]
  },
  {
   "cell_type": "code",
   "execution_count": 121,
   "metadata": {},
   "outputs": [
    {
     "name": "stdout",
     "output_type": "stream",
     "text": [
      "3/3 [==============================] - 0s 3ms/step - loss: 0.1658 - mae: 0.3488\n"
     ]
    },
    {
     "data": {
      "text/plain": [
       "[0.1658499538898468, 0.348829448223114]"
      ]
     },
     "execution_count": 121,
     "metadata": {},
     "output_type": "execute_result"
    }
   ],
   "source": [
    "model.evaluate(X_test, y_test)"
   ]
  },
  {
   "cell_type": "code",
   "execution_count": 122,
   "metadata": {},
   "outputs": [
    {
     "data": {
      "image/png": "[encoded data removed]",
      "text/plain": [
       "<Figure size 1000x700 with 1 Axes>"
      ]
     },
     "metadata": {},
     "output_type": "display_data"
    }
   ],
   "source": [
    "plt.figure(figsize=(10,7))\n",
    "plt.plot(range(N_EPOCHS), history.history['loss'], label='train loss')\n",
    "plt.plot(range(N_EPOCHS), history.history['val_loss'], label='test loss')\n",
    "plt.xlabel('Epoch')\n",
    "plt.ylabel('Loss')\n",
    "plt.legend()\n",
    "plt.show()"
   ]
  },
  {
   "cell_type": "code",
   "execution_count": 123,
   "metadata": {},
   "outputs": [
    {
     "data": {
      "image/png": "[encoded data removed]",
      "text/plain": [
       "<Figure size 1000x700 with 1 Axes>"
      ]
     },
     "metadata": {},
     "output_type": "display_data"
    }
   ],
   "source": [
    "plt.figure(figsize=(10,7))\n",
    "plt.plot(range(N_EPOCHS), history.history['mae'], label='mse')\n",
    "plt.plot(range(N_EPOCHS), history.history['val_mae'], label='test mse')\n",
    "plt.xlabel('Epoch')\n",
    "plt.ylabel('Loss')\n",
    "plt.legend()\n",
    "plt.show()"
   ]
  }
 ],
 "metadata": {
  "kernelspec": {
   "display_name": "Python 3",
   "language": "python",
   "name": "python3"
  },
  "language_info": {
   "codemirror_mode": {
    "name": "ipython",
    "version": 3
   },
   "file_extension": ".py",
   "mimetype": "text/x-python",
   "name": "python",
   "nbconvert_exporter": "python",
   "pygments_lexer": "ipython3",
   "version": "3.10.6"
  },
  "orig_nbformat": 4
 },
 "nbformat": 4,
 "nbformat_minor": 2
}
