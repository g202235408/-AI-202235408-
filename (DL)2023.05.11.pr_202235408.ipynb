{
 "cells": [
  {
   "attachments": {},
   "cell_type": "markdown",
   "metadata": {},
   "source": [
    "<h1>2022.05.11. 강의 시간내 실습</h1>"
   ]
  },
  {
   "cell_type": "code",
   "execution_count": 19,
   "metadata": {},
   "outputs": [],
   "source": [
    "import warnings\n",
    "\n",
    "warnings.filterwarnings('ignore')"
   ]
  },
  {
   "cell_type": "code",
   "execution_count": 20,
   "metadata": {},
   "outputs": [
    {
     "data": {
      "text/plain": [
       "<matplotlib.image.AxesImage at 0x1c38a59b940>"
      ]
     },
     "execution_count": 20,
     "metadata": {},
     "output_type": "execute_result"
    },
    {
     "data": {
      "image/png": "[encoded data removed]",
      "text/plain": [
       "<Figure size 640x480 with 1 Axes>"
      ]
     },
     "metadata": {},
     "output_type": "display_data"
    }
   ],
   "source": [
    "import matplotlib.pyplot as plt\n",
    "import numpy as np\n",
    "from sklearn import datasets, metrics\n",
    "from sklearn.model_selection import train_test_split\n",
    "\n",
    "\n",
    "digits = datasets.load_digits()\n",
    "plt.imshow(digits.images[0], cmap=plt.cm.gray_r, interpolation='nearest')"
   ]
  },
  {
   "cell_type": "code",
   "execution_count": 21,
   "metadata": {},
   "outputs": [],
   "source": [
    "n_samples = len(digits.images)\n",
    "\n",
    "data = digits.images.reshape((n_samples, -1))"
   ]
  },
  {
   "attachments": {},
   "cell_type": "markdown",
   "metadata": {},
   "source": [
    "<h2>Deap Learning</h2>"
   ]
  },
  {
   "cell_type": "code",
   "execution_count": 22,
   "metadata": {},
   "outputs": [],
   "source": [
    "X_train, X_test, y_train, y_test = train_test_split(data, digits.target, test_size=0.2)"
   ]
  },
  {
   "cell_type": "code",
   "execution_count": 23,
   "metadata": {},
   "outputs": [
    {
     "name": "stdout",
     "output_type": "stream",
     "text": [
      "(1437, 64)\n"
     ]
    }
   ],
   "source": [
    "print(X_train.shape)"
   ]
  },
  {
   "cell_type": "code",
   "execution_count": 32,
   "metadata": {},
   "outputs": [],
   "source": [
    "from keras import models\n",
    "from keras import layers\n",
    "from keras.optimizers import Adam\n",
    "\n",
    "def build_model(): \n",
    "    model = models.Sequential()\n",
    "    \n",
    "    model.add(layers.Dense(64, activation='sigmoid', input_shape=(64,)))\n",
    "    model.add(layers.Dense(32, activation='relu'))\n",
    "    model.add(layers.Dense(16, activation='relu'))\n",
    "    model.add(layers.Dense(10, activation='softmax'))\n",
    "    \n",
    "    model.compile(loss='categorical_crossentropy', optimizer=Adam(lr=0.001), metrics=['accuracy'])\n",
    "    \n",
    "    return model"
   ]
  },
  {
   "cell_type": "code",
   "execution_count": 33,
   "metadata": {},
   "outputs": [
    {
     "name": "stdout",
     "output_type": "stream",
     "text": [
      "Model: \"sequential_4\"\n",
      "_________________________________________________________________\n",
      " Layer (type)                Output Shape              Param #   \n",
      "=================================================================\n",
      " dense_13 (Dense)            (None, 64)                4160      \n",
      "                                                                 \n",
      " dense_14 (Dense)            (None, 32)                2080      \n",
      "                                                                 \n",
      " dense_15 (Dense)            (None, 16)                528       \n",
      "                                                                 \n",
      " dense_16 (Dense)            (None, 10)                170       \n",
      "                                                                 \n",
      "=================================================================\n",
      "Total params: 6,938\n",
      "Trainable params: 6,938\n",
      "Non-trainable params: 0\n",
      "_________________________________________________________________\n"
     ]
    }
   ],
   "source": [
    "model = build_model() \n",
    "\n",
    "model.summary()"
   ]
  },
  {
   "cell_type": "code",
   "execution_count": 34,
   "metadata": {},
   "outputs": [],
   "source": [
    "from keras.utils import to_categorical\n",
    "\n",
    "y_train_one_hot = to_categorical(y_train)\n",
    "y_test_one_hot = to_categorical(y_test)"
   ]
  },
  {
   "cell_type": "code",
   "execution_count": 35,
   "metadata": {},
   "outputs": [
    {
     "name": "stdout",
     "output_type": "stream",
     "text": [
      "Epoch 1/100\n",
      "18/18 [==============================] - 1s 25ms/step - loss: 2.2941 - accuracy: 0.1445 - val_loss: 2.1728 - val_accuracy: 0.2500\n",
      "Epoch 2/100\n",
      "18/18 [==============================] - 0s 7ms/step - loss: 2.0467 - accuracy: 0.3124 - val_loss: 1.9695 - val_accuracy: 0.3750\n",
      "Epoch 3/100\n",
      "18/18 [==============================] - 0s 6ms/step - loss: 1.7918 - accuracy: 0.4291 - val_loss: 1.6874 - val_accuracy: 0.4965\n",
      "Epoch 4/100\n",
      "18/18 [==============================] - 0s 7ms/step - loss: 1.4722 - accuracy: 0.5831 - val_loss: 1.3640 - val_accuracy: 0.6424\n",
      "Epoch 5/100\n",
      "18/18 [==============================] - 0s 8ms/step - loss: 1.1573 - accuracy: 0.7111 - val_loss: 1.0629 - val_accuracy: 0.7674\n",
      "Epoch 6/100\n",
      "18/18 [==============================] - 0s 8ms/step - loss: 0.8834 - accuracy: 0.8146 - val_loss: 0.8117 - val_accuracy: 0.8507\n",
      "Epoch 7/100\n",
      "18/18 [==============================] - 0s 6ms/step - loss: 0.6578 - accuracy: 0.8703 - val_loss: 0.6350 - val_accuracy: 0.8889\n",
      "Epoch 8/100\n",
      "18/18 [==============================] - 0s 6ms/step - loss: 0.5018 - accuracy: 0.8973 - val_loss: 0.5026 - val_accuracy: 0.9062\n",
      "Epoch 9/100\n",
      "18/18 [==============================] - 0s 6ms/step - loss: 0.3975 - accuracy: 0.9156 - val_loss: 0.4145 - val_accuracy: 0.9201\n",
      "Epoch 10/100\n",
      "18/18 [==============================] - 0s 6ms/step - loss: 0.3178 - accuracy: 0.9417 - val_loss: 0.3539 - val_accuracy: 0.9340\n",
      "Epoch 11/100\n",
      "18/18 [==============================] - 0s 7ms/step - loss: 0.2615 - accuracy: 0.9521 - val_loss: 0.3130 - val_accuracy: 0.9375\n",
      "Epoch 12/100\n",
      "18/18 [==============================] - 0s 6ms/step - loss: 0.2156 - accuracy: 0.9669 - val_loss: 0.2685 - val_accuracy: 0.9549\n",
      "Epoch 13/100\n",
      "18/18 [==============================] - 0s 6ms/step - loss: 0.1805 - accuracy: 0.9704 - val_loss: 0.2439 - val_accuracy: 0.9549\n",
      "Epoch 14/100\n",
      "18/18 [==============================] - 0s 6ms/step - loss: 0.1520 - accuracy: 0.9782 - val_loss: 0.2254 - val_accuracy: 0.9549\n",
      "Epoch 15/100\n",
      "18/18 [==============================] - 0s 7ms/step - loss: 0.1282 - accuracy: 0.9826 - val_loss: 0.2068 - val_accuracy: 0.9549\n",
      "Epoch 16/100\n",
      "18/18 [==============================] - 0s 6ms/step - loss: 0.1141 - accuracy: 0.9817 - val_loss: 0.2136 - val_accuracy: 0.9514\n",
      "Epoch 17/100\n",
      "18/18 [==============================] - 0s 7ms/step - loss: 0.0990 - accuracy: 0.9869 - val_loss: 0.1911 - val_accuracy: 0.9618\n",
      "Epoch 18/100\n",
      "18/18 [==============================] - 0s 6ms/step - loss: 0.0861 - accuracy: 0.9896 - val_loss: 0.1941 - val_accuracy: 0.9514\n",
      "Epoch 19/100\n",
      "18/18 [==============================] - 0s 6ms/step - loss: 0.0757 - accuracy: 0.9922 - val_loss: 0.1811 - val_accuracy: 0.9549\n",
      "Epoch 20/100\n",
      "18/18 [==============================] - 0s 6ms/step - loss: 0.0663 - accuracy: 0.9913 - val_loss: 0.1739 - val_accuracy: 0.9514\n",
      "Epoch 21/100\n",
      "18/18 [==============================] - 0s 6ms/step - loss: 0.0614 - accuracy: 0.9930 - val_loss: 0.1828 - val_accuracy: 0.9549\n",
      "Epoch 22/100\n",
      "18/18 [==============================] - 0s 7ms/step - loss: 0.0541 - accuracy: 0.9939 - val_loss: 0.1675 - val_accuracy: 0.9514\n",
      "Epoch 23/100\n",
      "18/18 [==============================] - 0s 8ms/step - loss: 0.0476 - accuracy: 0.9948 - val_loss: 0.1618 - val_accuracy: 0.9549\n",
      "Epoch 24/100\n",
      "18/18 [==============================] - 0s 6ms/step - loss: 0.0429 - accuracy: 0.9956 - val_loss: 0.1623 - val_accuracy: 0.9583\n",
      "Epoch 25/100\n",
      "18/18 [==============================] - 0s 6ms/step - loss: 0.0387 - accuracy: 0.9965 - val_loss: 0.1571 - val_accuracy: 0.9618\n",
      "Epoch 26/100\n",
      "18/18 [==============================] - 0s 7ms/step - loss: 0.0353 - accuracy: 0.9974 - val_loss: 0.1543 - val_accuracy: 0.9583\n",
      "Epoch 27/100\n",
      "18/18 [==============================] - 0s 6ms/step - loss: 0.0315 - accuracy: 0.9991 - val_loss: 0.1530 - val_accuracy: 0.9618\n",
      "Epoch 28/100\n",
      "18/18 [==============================] - 0s 6ms/step - loss: 0.0294 - accuracy: 0.9983 - val_loss: 0.1482 - val_accuracy: 0.9583\n",
      "Epoch 29/100\n",
      "18/18 [==============================] - 0s 6ms/step - loss: 0.0278 - accuracy: 0.9991 - val_loss: 0.1528 - val_accuracy: 0.9549\n",
      "Epoch 30/100\n",
      "18/18 [==============================] - 0s 7ms/step - loss: 0.0244 - accuracy: 0.9991 - val_loss: 0.1462 - val_accuracy: 0.9618\n",
      "Epoch 31/100\n",
      "18/18 [==============================] - 0s 7ms/step - loss: 0.0229 - accuracy: 0.9991 - val_loss: 0.1433 - val_accuracy: 0.9618\n",
      "Epoch 32/100\n",
      "18/18 [==============================] - 0s 6ms/step - loss: 0.0203 - accuracy: 0.9991 - val_loss: 0.1427 - val_accuracy: 0.9618\n",
      "Epoch 33/100\n",
      "18/18 [==============================] - 0s 6ms/step - loss: 0.0184 - accuracy: 0.9991 - val_loss: 0.1390 - val_accuracy: 0.9618\n",
      "Epoch 34/100\n",
      "18/18 [==============================] - 0s 7ms/step - loss: 0.0168 - accuracy: 0.9991 - val_loss: 0.1426 - val_accuracy: 0.9618\n",
      "Epoch 35/100\n",
      "18/18 [==============================] - 0s 6ms/step - loss: 0.0156 - accuracy: 0.9991 - val_loss: 0.1351 - val_accuracy: 0.9618\n",
      "Epoch 36/100\n",
      "18/18 [==============================] - 0s 6ms/step - loss: 0.0144 - accuracy: 0.9991 - val_loss: 0.1367 - val_accuracy: 0.9618\n",
      "Epoch 37/100\n",
      "18/18 [==============================] - 0s 7ms/step - loss: 0.0123 - accuracy: 0.9991 - val_loss: 0.1363 - val_accuracy: 0.9618\n",
      "Epoch 38/100\n",
      "18/18 [==============================] - 0s 6ms/step - loss: 0.0117 - accuracy: 1.0000 - val_loss: 0.1347 - val_accuracy: 0.9618\n",
      "Epoch 39/100\n",
      "18/18 [==============================] - 0s 11ms/step - loss: 0.0106 - accuracy: 1.0000 - val_loss: 0.1360 - val_accuracy: 0.9618\n",
      "Epoch 40/100\n",
      "18/18 [==============================] - 0s 6ms/step - loss: 0.0099 - accuracy: 1.0000 - val_loss: 0.1335 - val_accuracy: 0.9618\n",
      "Epoch 41/100\n",
      "18/18 [==============================] - 0s 7ms/step - loss: 0.0092 - accuracy: 1.0000 - val_loss: 0.1328 - val_accuracy: 0.9618\n",
      "Epoch 42/100\n",
      "18/18 [==============================] - 0s 6ms/step - loss: 0.0084 - accuracy: 1.0000 - val_loss: 0.1353 - val_accuracy: 0.9618\n",
      "Epoch 43/100\n",
      "18/18 [==============================] - 0s 6ms/step - loss: 0.0077 - accuracy: 1.0000 - val_loss: 0.1323 - val_accuracy: 0.9618\n",
      "Epoch 44/100\n",
      "18/18 [==============================] - 0s 6ms/step - loss: 0.0071 - accuracy: 1.0000 - val_loss: 0.1333 - val_accuracy: 0.9618\n",
      "Epoch 45/100\n",
      "18/18 [==============================] - 0s 6ms/step - loss: 0.0067 - accuracy: 1.0000 - val_loss: 0.1322 - val_accuracy: 0.9618\n",
      "Epoch 46/100\n",
      "18/18 [==============================] - 0s 7ms/step - loss: 0.0062 - accuracy: 1.0000 - val_loss: 0.1321 - val_accuracy: 0.9618\n",
      "Epoch 47/100\n",
      "18/18 [==============================] - 0s 7ms/step - loss: 0.0059 - accuracy: 1.0000 - val_loss: 0.1327 - val_accuracy: 0.9618\n",
      "Epoch 48/100\n",
      "18/18 [==============================] - 0s 6ms/step - loss: 0.0055 - accuracy: 1.0000 - val_loss: 0.1296 - val_accuracy: 0.9618\n",
      "Epoch 49/100\n",
      "18/18 [==============================] - 0s 6ms/step - loss: 0.0052 - accuracy: 1.0000 - val_loss: 0.1308 - val_accuracy: 0.9618\n",
      "Epoch 50/100\n",
      "18/18 [==============================] - 0s 6ms/step - loss: 0.0049 - accuracy: 1.0000 - val_loss: 0.1314 - val_accuracy: 0.9653\n",
      "Epoch 51/100\n",
      "18/18 [==============================] - 0s 7ms/step - loss: 0.0047 - accuracy: 1.0000 - val_loss: 0.1317 - val_accuracy: 0.9618\n",
      "Epoch 52/100\n",
      "18/18 [==============================] - 0s 8ms/step - loss: 0.0045 - accuracy: 1.0000 - val_loss: 0.1289 - val_accuracy: 0.9653\n",
      "Epoch 53/100\n",
      "18/18 [==============================] - 0s 6ms/step - loss: 0.0042 - accuracy: 1.0000 - val_loss: 0.1292 - val_accuracy: 0.9653\n",
      "Epoch 54/100\n",
      "18/18 [==============================] - 0s 6ms/step - loss: 0.0040 - accuracy: 1.0000 - val_loss: 0.1308 - val_accuracy: 0.9653\n",
      "Epoch 55/100\n",
      "18/18 [==============================] - 0s 7ms/step - loss: 0.0038 - accuracy: 1.0000 - val_loss: 0.1279 - val_accuracy: 0.9653\n",
      "Epoch 56/100\n",
      "18/18 [==============================] - 0s 7ms/step - loss: 0.0036 - accuracy: 1.0000 - val_loss: 0.1301 - val_accuracy: 0.9653\n",
      "Epoch 57/100\n",
      "18/18 [==============================] - 0s 7ms/step - loss: 0.0035 - accuracy: 1.0000 - val_loss: 0.1286 - val_accuracy: 0.9653\n",
      "Epoch 58/100\n",
      "18/18 [==============================] - 0s 7ms/step - loss: 0.0033 - accuracy: 1.0000 - val_loss: 0.1297 - val_accuracy: 0.9653\n",
      "Epoch 59/100\n",
      "18/18 [==============================] - 0s 6ms/step - loss: 0.0032 - accuracy: 1.0000 - val_loss: 0.1286 - val_accuracy: 0.9653\n",
      "Epoch 60/100\n",
      "18/18 [==============================] - 0s 6ms/step - loss: 0.0030 - accuracy: 1.0000 - val_loss: 0.1271 - val_accuracy: 0.9653\n",
      "Epoch 61/100\n",
      "18/18 [==============================] - 0s 9ms/step - loss: 0.0029 - accuracy: 1.0000 - val_loss: 0.1275 - val_accuracy: 0.9653\n",
      "Epoch 62/100\n",
      "18/18 [==============================] - 0s 6ms/step - loss: 0.0028 - accuracy: 1.0000 - val_loss: 0.1267 - val_accuracy: 0.9653\n",
      "Epoch 63/100\n",
      "18/18 [==============================] - 0s 7ms/step - loss: 0.0027 - accuracy: 1.0000 - val_loss: 0.1265 - val_accuracy: 0.9688\n",
      "Epoch 64/100\n",
      "18/18 [==============================] - 0s 6ms/step - loss: 0.0026 - accuracy: 1.0000 - val_loss: 0.1273 - val_accuracy: 0.9653\n",
      "Epoch 65/100\n",
      "18/18 [==============================] - 0s 6ms/step - loss: 0.0025 - accuracy: 1.0000 - val_loss: 0.1284 - val_accuracy: 0.9688\n",
      "Epoch 66/100\n",
      "18/18 [==============================] - 0s 6ms/step - loss: 0.0024 - accuracy: 1.0000 - val_loss: 0.1254 - val_accuracy: 0.9688\n",
      "Epoch 67/100\n",
      "18/18 [==============================] - 0s 7ms/step - loss: 0.0023 - accuracy: 1.0000 - val_loss: 0.1270 - val_accuracy: 0.9688\n",
      "Epoch 68/100\n",
      "18/18 [==============================] - 0s 6ms/step - loss: 0.0022 - accuracy: 1.0000 - val_loss: 0.1257 - val_accuracy: 0.9688\n",
      "Epoch 69/100\n",
      "18/18 [==============================] - 0s 6ms/step - loss: 0.0021 - accuracy: 1.0000 - val_loss: 0.1267 - val_accuracy: 0.9688\n",
      "Epoch 70/100\n",
      "18/18 [==============================] - 0s 6ms/step - loss: 0.0020 - accuracy: 1.0000 - val_loss: 0.1272 - val_accuracy: 0.9688\n",
      "Epoch 71/100\n",
      "18/18 [==============================] - 0s 6ms/step - loss: 0.0020 - accuracy: 1.0000 - val_loss: 0.1277 - val_accuracy: 0.9688\n",
      "Epoch 72/100\n",
      "18/18 [==============================] - 0s 6ms/step - loss: 0.0019 - accuracy: 1.0000 - val_loss: 0.1267 - val_accuracy: 0.9688\n",
      "Epoch 73/100\n",
      "18/18 [==============================] - 0s 6ms/step - loss: 0.0018 - accuracy: 1.0000 - val_loss: 0.1269 - val_accuracy: 0.9688\n",
      "Epoch 74/100\n",
      "18/18 [==============================] - 0s 7ms/step - loss: 0.0018 - accuracy: 1.0000 - val_loss: 0.1265 - val_accuracy: 0.9688\n",
      "Epoch 75/100\n",
      "18/18 [==============================] - 0s 6ms/step - loss: 0.0017 - accuracy: 1.0000 - val_loss: 0.1268 - val_accuracy: 0.9688\n",
      "Epoch 76/100\n",
      "18/18 [==============================] - 0s 6ms/step - loss: 0.0017 - accuracy: 1.0000 - val_loss: 0.1279 - val_accuracy: 0.9688\n",
      "Epoch 77/100\n",
      "18/18 [==============================] - 0s 6ms/step - loss: 0.0016 - accuracy: 1.0000 - val_loss: 0.1270 - val_accuracy: 0.9688\n",
      "Epoch 78/100\n",
      "18/18 [==============================] - 0s 7ms/step - loss: 0.0016 - accuracy: 1.0000 - val_loss: 0.1272 - val_accuracy: 0.9688\n",
      "Epoch 79/100\n",
      "18/18 [==============================] - 0s 6ms/step - loss: 0.0015 - accuracy: 1.0000 - val_loss: 0.1279 - val_accuracy: 0.9688\n",
      "Epoch 80/100\n",
      "18/18 [==============================] - 0s 6ms/step - loss: 0.0015 - accuracy: 1.0000 - val_loss: 0.1268 - val_accuracy: 0.9688\n",
      "Epoch 81/100\n",
      "18/18 [==============================] - 0s 7ms/step - loss: 0.0014 - accuracy: 1.0000 - val_loss: 0.1279 - val_accuracy: 0.9688\n",
      "Epoch 82/100\n",
      "18/18 [==============================] - 0s 10ms/step - loss: 0.0014 - accuracy: 1.0000 - val_loss: 0.1287 - val_accuracy: 0.9688\n",
      "Epoch 83/100\n",
      "18/18 [==============================] - 0s 7ms/step - loss: 0.0013 - accuracy: 1.0000 - val_loss: 0.1272 - val_accuracy: 0.9688\n",
      "Epoch 84/100\n",
      "18/18 [==============================] - 0s 6ms/step - loss: 0.0013 - accuracy: 1.0000 - val_loss: 0.1280 - val_accuracy: 0.9688\n",
      "Epoch 85/100\n",
      "18/18 [==============================] - 0s 6ms/step - loss: 0.0013 - accuracy: 1.0000 - val_loss: 0.1280 - val_accuracy: 0.9688\n",
      "Epoch 86/100\n",
      "18/18 [==============================] - 0s 6ms/step - loss: 0.0012 - accuracy: 1.0000 - val_loss: 0.1282 - val_accuracy: 0.9688\n",
      "Epoch 87/100\n",
      "18/18 [==============================] - 0s 6ms/step - loss: 0.0012 - accuracy: 1.0000 - val_loss: 0.1281 - val_accuracy: 0.9688\n",
      "Epoch 88/100\n",
      "18/18 [==============================] - 0s 6ms/step - loss: 0.0012 - accuracy: 1.0000 - val_loss: 0.1284 - val_accuracy: 0.9688\n",
      "Epoch 89/100\n",
      "18/18 [==============================] - 0s 7ms/step - loss: 0.0011 - accuracy: 1.0000 - val_loss: 0.1286 - val_accuracy: 0.9688\n",
      "Epoch 90/100\n",
      "18/18 [==============================] - 0s 6ms/step - loss: 0.0011 - accuracy: 1.0000 - val_loss: 0.1282 - val_accuracy: 0.9688\n",
      "Epoch 91/100\n",
      "18/18 [==============================] - 0s 7ms/step - loss: 0.0011 - accuracy: 1.0000 - val_loss: 0.1289 - val_accuracy: 0.9688\n",
      "Epoch 92/100\n",
      "18/18 [==============================] - 0s 7ms/step - loss: 0.0010 - accuracy: 1.0000 - val_loss: 0.1287 - val_accuracy: 0.9688\n",
      "Epoch 93/100\n",
      "18/18 [==============================] - 0s 6ms/step - loss: 0.0010 - accuracy: 1.0000 - val_loss: 0.1284 - val_accuracy: 0.9688\n",
      "Epoch 94/100\n",
      "18/18 [==============================] - 0s 6ms/step - loss: 9.8850e-04 - accuracy: 1.0000 - val_loss: 0.1285 - val_accuracy: 0.9688\n",
      "Epoch 95/100\n",
      "18/18 [==============================] - 0s 6ms/step - loss: 9.5495e-04 - accuracy: 1.0000 - val_loss: 0.1301 - val_accuracy: 0.9688\n",
      "Epoch 96/100\n",
      "18/18 [==============================] - 0s 6ms/step - loss: 9.2888e-04 - accuracy: 1.0000 - val_loss: 0.1285 - val_accuracy: 0.9688\n",
      "Epoch 97/100\n",
      "18/18 [==============================] - 0s 7ms/step - loss: 9.0690e-04 - accuracy: 1.0000 - val_loss: 0.1295 - val_accuracy: 0.9688\n",
      "Epoch 98/100\n",
      "18/18 [==============================] - 0s 7ms/step - loss: 8.8142e-04 - accuracy: 1.0000 - val_loss: 0.1293 - val_accuracy: 0.9688\n",
      "Epoch 99/100\n",
      "18/18 [==============================] - 0s 7ms/step - loss: 8.5840e-04 - accuracy: 1.0000 - val_loss: 0.1295 - val_accuracy: 0.9688\n",
      "Epoch 100/100\n",
      "18/18 [==============================] - 0s 6ms/step - loss: 8.3591e-04 - accuracy: 1.0000 - val_loss: 0.1291 - val_accuracy: 0.9688\n",
      "12/12 [==============================] - 0s 2ms/step\n"
     ]
    }
   ],
   "source": [
    "model_history = model.fit(X_train, y_train_one_hot, epochs=100, batch_size=64, validation_split=0.2)\n",
    "y_pred = model.predict(X_test)\n",
    "\n",
    "y_test_class = np.argmax(y_test_one_hot,axis=1)\n",
    "y_pred_class = np.argmax(y_pred,axis=1)"
   ]
  },
  {
   "cell_type": "code",
   "execution_count": 36,
   "metadata": {},
   "outputs": [
    {
     "data": {
      "image/png": "[encoded data removed]",
      "text/plain": [
       "<Figure size 640x480 with 1 Axes>"
      ]
     },
     "metadata": {},
     "output_type": "display_data"
    }
   ],
   "source": [
    "import matplotlib.pyplot as plt\n",
    "import seaborn as sns\n",
    "\n",
    "loss =model_history.history['loss']\n",
    "val_loss =model_history.history['val_loss']\n",
    "epochs = range(1, len(loss) + 1)\n",
    "plt.plot(epochs, loss, 'y', label='Training loss')\n",
    "plt.plot(epochs, val_loss, 'r', label='Validation loss')\n",
    "plt.title('Training and validation loss')\n",
    "plt.xlabel('Epochs')\n",
    "plt.ylabel('Loss')\n",
    "plt.legend()\n",
    "plt.show()"
   ]
  },
  {
   "cell_type": "code",
   "execution_count": 37,
   "metadata": {},
   "outputs": [
    {
     "data": {
      "image/png": "[encoded data removed]",
      "text/plain": [
       "<Figure size 640x480 with 1 Axes>"
      ]
     },
     "metadata": {},
     "output_type": "display_data"
    }
   ],
   "source": [
    "acc =model_history.history['accuracy']\n",
    "val_acc =model_history.history['val_accuracy']\n",
    "plt.plot(epochs, acc, 'y', label='Training acc')\n",
    "plt.plot(epochs, val_acc, 'r', label='Validation acc')\n",
    "plt.title('Training and validation accuracy')\n",
    "plt.xlabel('Epochs')\n",
    "plt.ylabel('Accuracy')\n",
    "plt.legend()\n",
    "plt.show()"
   ]
  }
 ],
 "metadata": {
  "kernelspec": {
   "display_name": "Python 3",
   "language": "python",
   "name": "python3"
  },
  "language_info": {
   "codemirror_mode": {
    "name": "ipython",
    "version": 3
   },
   "file_extension": ".py",
   "mimetype": "text/x-python",
   "name": "python",
   "nbconvert_exporter": "python",
   "pygments_lexer": "ipython3",
   "version": "3.10.6"
  },
  "orig_nbformat": 4
 },
 "nbformat": 4,
 "nbformat_minor": 2
}
