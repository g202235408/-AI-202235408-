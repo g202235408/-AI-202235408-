{
 "cells": [
  {
   "attachments": {},
   "cell_type": "markdown",
   "metadata": {},
   "source": [
    "<h1>2022.04.13. 강의 시간내 실습</h1>"
   ]
  },
  {
   "attachments": {},
   "cell_type": "markdown",
   "metadata": {},
   "source": [
    "<h2>Dataset</h2>"
   ]
  },
  {
   "cell_type": "code",
   "execution_count": 2,
   "metadata": {},
   "outputs": [],
   "source": [
    "from sklearn.datasets import load_breast_cancer\n",
    "import pandas as pd\n",
    "import numpy as np\n",
    "\n",
    "breast_cancer_data = load_breast_cancer()"
   ]
  },
  {
   "attachments": {},
   "cell_type": "markdown",
   "metadata": {},
   "source": [
    "<h2>Classification</h2>"
   ]
  },
  {
   "cell_type": "code",
   "execution_count": 3,
   "metadata": {},
   "outputs": [],
   "source": [
    "from sklearn.model_selection import train_test_split \n",
    "\n",
    "X_train, X_test, y_train, y_test = train_test_split(breast_cancer_data.data, breast_cancer_data.target, test_size=0.2, random_state=42)"
   ]
  },
  {
   "cell_type": "code",
   "execution_count": 4,
   "metadata": {},
   "outputs": [],
   "source": [
    "from sklearn.model_selection import cross_validate"
   ]
  },
  {
   "attachments": {},
   "cell_type": "markdown",
   "metadata": {},
   "source": [
    "<h3>Extra Trees</h3>"
   ]
  },
  {
   "cell_type": "code",
   "execution_count": 14,
   "metadata": {},
   "outputs": [
    {
     "name": "stdout",
     "output_type": "stream",
     "text": [
      "train_score    1.000000\n",
      "test_score     0.964835\n",
      "dtype: float64\n"
     ]
    }
   ],
   "source": [
    "from sklearn.ensemble import ExtraTreesClassifier\n",
    "\n",
    "et = ExtraTreesClassifier()\n",
    "scores = cross_validate(et, X_train, y_train, return_train_score=True)\n",
    "\n",
    "df_scores = pd.DataFrame(scores)\n",
    "print(df_scores[['train_score', 'test_score']].mean())"
   ]
  },
  {
   "cell_type": "code",
   "execution_count": 10,
   "metadata": {},
   "outputs": [
    {
     "name": "stdout",
     "output_type": "stream",
     "text": [
      "[0.05927695 0.02066834 0.05877323 0.07209673 0.00941721 0.02784329\n",
      " 0.05138108 0.0618356  0.00935575 0.00551777 0.01819564 0.00601908\n",
      " 0.02619119 0.03767477 0.00644541 0.0093905  0.00923554 0.01097072\n",
      " 0.00708145 0.00534408 0.08001541 0.03172505 0.08087755 0.06607788\n",
      " 0.02420456 0.03110316 0.0757661  0.06805515 0.01894091 0.01051991]\n",
      "\n",
      "\n",
      "Extra Trees Classifier Score: 0.9736842105263158\n"
     ]
    }
   ],
   "source": [
    "et.fit(X_train, y_train)\n",
    "\n",
    "print(et.feature_importances_)\n",
    "print(\"\\n\")\n",
    "print(\"Extra Trees Classifier Score:\", et.score(X_test, y_test))"
   ]
  },
  {
   "attachments": {},
   "cell_type": "markdown",
   "metadata": {},
   "source": [
    "<h3>GradientBoosting</h3>"
   ]
  },
  {
   "cell_type": "code",
   "execution_count": 15,
   "metadata": {},
   "outputs": [
    {
     "name": "stdout",
     "output_type": "stream",
     "text": [
      "train_score    1.000000\n",
      "test_score     0.964835\n",
      "dtype: float64\n"
     ]
    }
   ],
   "source": [
    "from sklearn.ensemble import GradientBoostingClassifier\n",
    "\n",
    "gb = gb = GradientBoostingClassifier()\n",
    "scores = cross_validate(gb, X_train, y_train, return_train_score=True)\n",
    "\n",
    "print(df_scores[['train_score', 'test_score']].mean())"
   ]
  },
  {
   "cell_type": "code",
   "execution_count": 16,
   "metadata": {},
   "outputs": [
    {
     "name": "stdout",
     "output_type": "stream",
     "text": [
      "[3.96555449e-05 2.03335496e-02 1.83340866e-04 1.70458877e-04\n",
      " 2.02878348e-03 2.14102905e-03 2.15036195e-03 4.49741078e-01\n",
      " 1.75303435e-03 4.20118348e-05 8.47430373e-03 3.60693963e-03\n",
      " 5.09689521e-04 8.43374250e-03 1.79106830e-03 1.36746560e-03\n",
      " 1.35509673e-02 2.03353351e-03 1.86732136e-04 4.80285398e-03\n",
      " 7.53465239e-02 4.73670735e-02 5.10952692e-02 3.80843604e-02\n",
      " 5.42250036e-03 6.87808525e-05 1.79606137e-02 2.40829368e-01\n",
      " 3.34679549e-04 1.50231544e-04]\n",
      "\n",
      "\n",
      "Gradient Boosting Classifier Score: 0.956140350877193\n"
     ]
    }
   ],
   "source": [
    "gb.fit(X_train, y_train)\n",
    "\n",
    "print(gb.feature_importances_)\n",
    "print(\"\\n\")\n",
    "print(\"Gradient Boosting Classifier Score:\", gb.score(X_test, y_test))"
   ]
  },
  {
   "attachments": {},
   "cell_type": "markdown",
   "metadata": {},
   "source": [
    "<h3>HisGradientBoosting</h3>"
   ]
  },
  {
   "cell_type": "code",
   "execution_count": 17,
   "metadata": {},
   "outputs": [
    {
     "name": "stdout",
     "output_type": "stream",
     "text": [
      "train_score    1.000000\n",
      "test_score     0.964835\n",
      "dtype: float64\n"
     ]
    }
   ],
   "source": [
    "from sklearn.ensemble import HistGradientBoostingClassifier\n",
    "\n",
    "hgb = HistGradientBoostingClassifier()\n",
    "scores = cross_validate(hgb, X_train, y_train, return_train_score=True)\n",
    "\n",
    "print(df_scores[['train_score', 'test_score']].mean())"
   ]
  },
  {
   "cell_type": "code",
   "execution_count": 18,
   "metadata": {},
   "outputs": [
    {
     "name": "stdout",
     "output_type": "stream",
     "text": [
      "[0.         0.0043956  0.         0.         0.         0.\n",
      " 0.         0.00791209 0.         0.         0.         0.\n",
      " 0.         0.         0.         0.         0.         0.\n",
      " 0.         0.         0.         0.00527473 0.0021978  0.\n",
      " 0.         0.         0.         0.01076923 0.         0.        ]\n",
      "\n",
      "\n",
      "Extra Trees Classifier Score: 0.9736842105263158\n"
     ]
    }
   ],
   "source": [
    "from sklearn.inspection import permutation_importance\n",
    "\n",
    "hgb.fit(X_train, y_train)\n",
    "\n",
    "result = permutation_importance(hgb, X_train, y_train, n_repeats=10, random_state=42)\n",
    "print(result.importances_mean)\n",
    "\n",
    "print(\"\\n\")\n",
    "print(\"HisGradientBoosting Classifier Score:\", hgb.score(X_test, y_test))"
   ]
  },
  {
   "attachments": {},
   "cell_type": "markdown",
   "metadata": {},
   "source": [
    "<h3>XGBC</h3>"
   ]
  },
  {
   "cell_type": "code",
   "execution_count": 20,
   "metadata": {},
   "outputs": [
    {
     "name": "stdout",
     "output_type": "stream",
     "text": [
      "train_score    1.000000\n",
      "test_score     0.964835\n",
      "dtype: float64\n"
     ]
    }
   ],
   "source": [
    "from xgboost import XGBClassifier\n",
    "\n",
    "xgb = XGBClassifier(tree_method='hist', random_state=42)\n",
    "scores = cross_validate(xgb, X_train, y_train, return_train_score=True)\n",
    "\n",
    "print(df_scores[['train_score', 'test_score']].mean())"
   ]
  },
  {
   "cell_type": "code",
   "execution_count": 25,
   "metadata": {},
   "outputs": [
    {
     "name": "stdout",
     "output_type": "stream",
     "text": [
      "[0.         0.00461538 0.         0.         0.         0.\n",
      " 0.         0.00571429 0.         0.         0.         0.\n",
      " 0.         0.00307692 0.         0.00241758 0.         0.\n",
      " 0.         0.         0.00175824 0.01692308 0.00065934 0.00131868\n",
      " 0.         0.         0.00549451 0.01142857 0.         0.        ]\n",
      "\n",
      "\n",
      "XGBC Classifier Score: 0.956140350877193\n"
     ]
    }
   ],
   "source": [
    "from sklearn.inspection import permutation_importance\n",
    "\n",
    "xgb.fit(X_train, y_train)\n",
    "\n",
    "result = permutation_importance(xgb, X_train, y_train, n_repeats=10, random_state=42)\n",
    "print(result.importances_mean)\n",
    "\n",
    "print(\"\\n\")\n",
    "print(\"XGBC Classifier Score:\", xgb.score(X_test, y_test))"
   ]
  },
  {
   "attachments": {},
   "cell_type": "markdown",
   "metadata": {},
   "source": [
    "<h3>LGBM</h3>"
   ]
  },
  {
   "cell_type": "code",
   "execution_count": 23,
   "metadata": {},
   "outputs": [
    {
     "name": "stdout",
     "output_type": "stream",
     "text": [
      "train_score    1.000000\n",
      "test_score     0.964835\n",
      "dtype: float64\n"
     ]
    }
   ],
   "source": [
    "from lightgbm import LGBMClassifier\n",
    "\n",
    "lgb = LGBMClassifier(random_state=42)\n",
    "scores = cross_validate(lgb, X_train, y_train, return_train_score=True)\n",
    "\n",
    "print(df_scores[['train_score', 'test_score']].mean())"
   ]
  },
  {
   "cell_type": "code",
   "execution_count": 26,
   "metadata": {},
   "outputs": [
    {
     "name": "stdout",
     "output_type": "stream",
     "text": [
      "[0.         0.00395604 0.         0.         0.         0.\n",
      " 0.         0.00527473 0.         0.         0.         0.\n",
      " 0.         0.         0.         0.00021978 0.         0.\n",
      " 0.         0.         0.         0.00483516 0.00021978 0.00395604\n",
      " 0.         0.         0.00549451 0.01494505 0.         0.        ]\n",
      "\n",
      "\n",
      "LGBM Classifier Score: 0.9649122807017544\n"
     ]
    }
   ],
   "source": [
    "from sklearn.inspection import permutation_importance\n",
    "\n",
    "lgb.fit(X_train, y_train)\n",
    "\n",
    "result = permutation_importance(lgb, X_train, y_train, n_repeats=10, random_state=42)\n",
    "print(result.importances_mean)\n",
    "\n",
    "print(\"\\n\")\n",
    "print(\"LGBM Classifier Score:\", lgb.score(X_test, y_test))"
   ]
  }
 ],
 "metadata": {
  "kernelspec": {
   "display_name": "Python 3",
   "language": "python",
   "name": "python3"
  },
  "language_info": {
   "codemirror_mode": {
    "name": "ipython",
    "version": 3
   },
   "file_extension": ".py",
   "mimetype": "text/x-python",
   "name": "python",
   "nbconvert_exporter": "python",
   "pygments_lexer": "ipython3",
   "version": "3.10.6"
  },
  "orig_nbformat": 4
 },
 "nbformat": 4,
 "nbformat_minor": 2
}
