{
 "cells": [
  {
   "attachments": {},
   "cell_type": "markdown",
   "metadata": {},
   "source": [
    "<h1>2022.05.12. 강의 시간내 실습</h1>"
   ]
  },
  {
   "cell_type": "code",
   "execution_count": 125,
   "metadata": {},
   "outputs": [],
   "source": [
    "import pandas as pd\n",
    "import numpy as np\n",
    "\n",
    "car_data = pd.read_csv(\"C:/ai_dataset/car.data\")"
   ]
  },
  {
   "cell_type": "code",
   "execution_count": 126,
   "metadata": {},
   "outputs": [],
   "source": [
    "from sklearn.preprocessing import LabelEncoder\n",
    "le = LabelEncoder()\n",
    "\n",
    "for i in car_data.columns :\n",
    "    car_data[i] = le.fit_transform(car_data[i])"
   ]
  },
  {
   "cell_type": "code",
   "execution_count": 127,
   "metadata": {},
   "outputs": [
    {
     "data": {
      "text/html": [
       "<div>\n",
       "<style scoped>\n",
       "    .dataframe tbody tr th:only-of-type {\n",
       "        vertical-align: middle;\n",
       "    }\n",
       "\n",
       "    .dataframe tbody tr th {\n",
       "        vertical-align: top;\n",
       "    }\n",
       "\n",
       "    .dataframe thead th {\n",
       "        text-align: right;\n",
       "    }\n",
       "</style>\n",
       "<table border=\"1\" class=\"dataframe\">\n",
       "  <thead>\n",
       "    <tr style=\"text-align: right;\">\n",
       "      <th></th>\n",
       "      <th>vhigh</th>\n",
       "      <th>vhigh.1</th>\n",
       "      <th>2</th>\n",
       "      <th>2.1</th>\n",
       "      <th>small</th>\n",
       "      <th>low</th>\n",
       "      <th>unacc</th>\n",
       "    </tr>\n",
       "  </thead>\n",
       "  <tbody>\n",
       "    <tr>\n",
       "      <th>count</th>\n",
       "      <td>1727.000000</td>\n",
       "      <td>1727.000000</td>\n",
       "      <td>1727.000000</td>\n",
       "      <td>1727.000000</td>\n",
       "      <td>1727.000000</td>\n",
       "      <td>1727.00000</td>\n",
       "      <td>1727.000000</td>\n",
       "    </tr>\n",
       "    <tr>\n",
       "      <th>mean</th>\n",
       "      <td>1.499131</td>\n",
       "      <td>1.499131</td>\n",
       "      <td>1.500869</td>\n",
       "      <td>1.000579</td>\n",
       "      <td>0.999421</td>\n",
       "      <td>1.00000</td>\n",
       "      <td>1.552982</td>\n",
       "    </tr>\n",
       "    <tr>\n",
       "      <th>std</th>\n",
       "      <td>1.118098</td>\n",
       "      <td>1.118098</td>\n",
       "      <td>1.118098</td>\n",
       "      <td>0.816615</td>\n",
       "      <td>0.816615</td>\n",
       "      <td>0.81697</td>\n",
       "      <td>0.876136</td>\n",
       "    </tr>\n",
       "    <tr>\n",
       "      <th>min</th>\n",
       "      <td>0.000000</td>\n",
       "      <td>0.000000</td>\n",
       "      <td>0.000000</td>\n",
       "      <td>0.000000</td>\n",
       "      <td>0.000000</td>\n",
       "      <td>0.00000</td>\n",
       "      <td>0.000000</td>\n",
       "    </tr>\n",
       "    <tr>\n",
       "      <th>25%</th>\n",
       "      <td>0.500000</td>\n",
       "      <td>0.500000</td>\n",
       "      <td>1.000000</td>\n",
       "      <td>0.000000</td>\n",
       "      <td>0.000000</td>\n",
       "      <td>0.00000</td>\n",
       "      <td>1.000000</td>\n",
       "    </tr>\n",
       "    <tr>\n",
       "      <th>50%</th>\n",
       "      <td>1.000000</td>\n",
       "      <td>1.000000</td>\n",
       "      <td>2.000000</td>\n",
       "      <td>1.000000</td>\n",
       "      <td>1.000000</td>\n",
       "      <td>1.00000</td>\n",
       "      <td>2.000000</td>\n",
       "    </tr>\n",
       "    <tr>\n",
       "      <th>75%</th>\n",
       "      <td>2.000000</td>\n",
       "      <td>2.000000</td>\n",
       "      <td>2.500000</td>\n",
       "      <td>2.000000</td>\n",
       "      <td>2.000000</td>\n",
       "      <td>2.00000</td>\n",
       "      <td>2.000000</td>\n",
       "    </tr>\n",
       "    <tr>\n",
       "      <th>max</th>\n",
       "      <td>3.000000</td>\n",
       "      <td>3.000000</td>\n",
       "      <td>3.000000</td>\n",
       "      <td>2.000000</td>\n",
       "      <td>2.000000</td>\n",
       "      <td>2.00000</td>\n",
       "      <td>3.000000</td>\n",
       "    </tr>\n",
       "  </tbody>\n",
       "</table>\n",
       "</div>"
      ],
      "text/plain": [
       "             vhigh      vhigh.1            2          2.1        small  \\\n",
       "count  1727.000000  1727.000000  1727.000000  1727.000000  1727.000000   \n",
       "mean      1.499131     1.499131     1.500869     1.000579     0.999421   \n",
       "std       1.118098     1.118098     1.118098     0.816615     0.816615   \n",
       "min       0.000000     0.000000     0.000000     0.000000     0.000000   \n",
       "25%       0.500000     0.500000     1.000000     0.000000     0.000000   \n",
       "50%       1.000000     1.000000     2.000000     1.000000     1.000000   \n",
       "75%       2.000000     2.000000     2.500000     2.000000     2.000000   \n",
       "max       3.000000     3.000000     3.000000     2.000000     2.000000   \n",
       "\n",
       "              low        unacc  \n",
       "count  1727.00000  1727.000000  \n",
       "mean      1.00000     1.552982  \n",
       "std       0.81697     0.876136  \n",
       "min       0.00000     0.000000  \n",
       "25%       0.00000     1.000000  \n",
       "50%       1.00000     2.000000  \n",
       "75%       2.00000     2.000000  \n",
       "max       2.00000     3.000000  "
      ]
     },
     "execution_count": 127,
     "metadata": {},
     "output_type": "execute_result"
    }
   ],
   "source": [
    "car_data.describe()"
   ]
  },
  {
   "cell_type": "code",
   "execution_count": 128,
   "metadata": {},
   "outputs": [
    {
     "data": {
      "text/plain": [
       "vhigh      0\n",
       "vhigh.1    0\n",
       "2          0\n",
       "2.1        0\n",
       "small      0\n",
       "low        0\n",
       "unacc      0\n",
       "dtype: int64"
      ]
     },
     "execution_count": 128,
     "metadata": {},
     "output_type": "execute_result"
    }
   ],
   "source": [
    "car_data.isna().sum()"
   ]
  },
  {
   "cell_type": "code",
   "execution_count": 129,
   "metadata": {},
   "outputs": [
    {
     "data": {
      "text/plain": [
       "Text(0.5, 1.0, 'Class')"
      ]
     },
     "execution_count": 129,
     "metadata": {},
     "output_type": "execute_result"
    },
    {
     "data": {
      "image/png": "[encoded data removed]",
      "text/plain": [
       "<Figure size 640x480 with 1 Axes>"
      ]
     },
     "metadata": {},
     "output_type": "display_data"
    }
   ],
   "source": [
    "import matplotlib.pyplot as plt\n",
    "import seaborn as sns\n",
    "\n",
    "sns.countplot(data = car_data, x=\"unacc\")\n",
    "plt.xlabel(\"X\")\n",
    "plt.ylabel(\"Y\")\n",
    "plt.title(\"Class\")"
   ]
  },
  {
   "cell_type": "code",
   "execution_count": 130,
   "metadata": {},
   "outputs": [],
   "source": [
    "x = car_data.drop('unacc',axis=1)\n",
    "y = car_data.unacc.values"
   ]
  },
  {
   "cell_type": "code",
   "execution_count": 131,
   "metadata": {},
   "outputs": [],
   "source": [
    "from sklearn.model_selection import train_test_split\n",
    "X_train,X_test,y_train,y_test=train_test_split(x,y,test_size=0.2,random_state=42)"
   ]
  },
  {
   "cell_type": "code",
   "execution_count": 132,
   "metadata": {},
   "outputs": [],
   "source": [
    "from keras import models\n",
    "from keras import layers\n",
    "from keras.optimizers import Adam\n",
    "\n",
    "def build_model(): \n",
    "    model = models.Sequential()\n",
    "    \n",
    "    model.add(layers.Dense(64, activation='relu', input_shape=(6,)))\n",
    "    model.add(layers.Dense(32, activation='relu'))\n",
    "    model.add(layers.Dense(16, activation='relu'))\n",
    "    model.add(layers.Dense(4, activation='softmax'))\n",
    "    \n",
    "    model.compile(loss='categorical_crossentropy', optimizer=Adam(lr=0.001), metrics=['accuracy'])\n",
    "    \n",
    "    return model"
   ]
  },
  {
   "cell_type": "code",
   "execution_count": 133,
   "metadata": {},
   "outputs": [
    {
     "name": "stdout",
     "output_type": "stream",
     "text": [
      "Model: \"sequential_10\"\n",
      "_________________________________________________________________\n",
      " Layer (type)                Output Shape              Param #   \n",
      "=================================================================\n",
      " dense_40 (Dense)            (None, 64)                448       \n",
      "                                                                 \n",
      " dense_41 (Dense)            (None, 32)                2080      \n",
      "                                                                 \n",
      " dense_42 (Dense)            (None, 16)                528       \n",
      "                                                                 \n",
      " dense_43 (Dense)            (None, 4)                 68        \n",
      "                                                                 \n",
      "=================================================================\n",
      "Total params: 3,124\n",
      "Trainable params: 3,124\n",
      "Non-trainable params: 0\n",
      "_________________________________________________________________\n"
     ]
    },
    {
     "name": "stderr",
     "output_type": "stream",
     "text": [
      "c:\\Users\\kkh\\AppData\\Local\\Programs\\Python\\Python310\\lib\\site-packages\\keras\\optimizers\\legacy\\adam.py:117: UserWarning: The `lr` argument is deprecated, use `learning_rate` instead.\n",
      "  super().__init__(name, **kwargs)\n"
     ]
    }
   ],
   "source": [
    "model = build_model() \n",
    "\n",
    "model.summary()"
   ]
  },
  {
   "cell_type": "code",
   "execution_count": 134,
   "metadata": {},
   "outputs": [],
   "source": [
    "from keras.utils import to_categorical\n",
    "\n",
    "y_train_one_hot = to_categorical(y_train)\n",
    "y_test_one_hot = to_categorical(y_test)"
   ]
  },
  {
   "cell_type": "code",
   "execution_count": 135,
   "metadata": {},
   "outputs": [
    {
     "name": "stdout",
     "output_type": "stream",
     "text": [
      "Epoch 1/100\n",
      "18/18 [==============================] - 0s 10ms/step - loss: 1.0404 - accuracy: 0.4755 - val_loss: 0.9025 - val_accuracy: 0.6751\n",
      "Epoch 2/100\n",
      "18/18 [==============================] - 0s 3ms/step - loss: 0.8081 - accuracy: 0.7111 - val_loss: 0.8863 - val_accuracy: 0.6751\n",
      "Epoch 3/100\n",
      "18/18 [==============================] - 0s 3ms/step - loss: 0.7618 - accuracy: 0.7111 - val_loss: 0.8283 - val_accuracy: 0.6751\n",
      "Epoch 4/100\n",
      "18/18 [==============================] - 0s 3ms/step - loss: 0.7218 - accuracy: 0.7111 - val_loss: 0.7861 - val_accuracy: 0.6751\n",
      "Epoch 5/100\n",
      "18/18 [==============================] - 0s 3ms/step - loss: 0.6852 - accuracy: 0.7111 - val_loss: 0.7520 - val_accuracy: 0.6751\n",
      "Epoch 6/100\n",
      "18/18 [==============================] - 0s 3ms/step - loss: 0.6587 - accuracy: 0.7101 - val_loss: 0.7236 - val_accuracy: 0.6859\n",
      "Epoch 7/100\n",
      "18/18 [==============================] - 0s 3ms/step - loss: 0.6368 - accuracy: 0.7092 - val_loss: 0.7046 - val_accuracy: 0.6931\n",
      "Epoch 8/100\n",
      "18/18 [==============================] - 0s 3ms/step - loss: 0.6212 - accuracy: 0.7129 - val_loss: 0.6894 - val_accuracy: 0.6895\n",
      "Epoch 9/100\n",
      "18/18 [==============================] - 0s 3ms/step - loss: 0.6066 - accuracy: 0.7138 - val_loss: 0.6784 - val_accuracy: 0.6751\n",
      "Epoch 10/100\n",
      "18/18 [==============================] - 0s 3ms/step - loss: 0.5948 - accuracy: 0.7192 - val_loss: 0.6592 - val_accuracy: 0.6859\n",
      "Epoch 11/100\n",
      "18/18 [==============================] - 0s 3ms/step - loss: 0.5811 - accuracy: 0.7219 - val_loss: 0.6398 - val_accuracy: 0.6787\n",
      "Epoch 12/100\n",
      "18/18 [==============================] - 0s 3ms/step - loss: 0.5661 - accuracy: 0.7274 - val_loss: 0.6271 - val_accuracy: 0.6751\n",
      "Epoch 13/100\n",
      "18/18 [==============================] - 0s 3ms/step - loss: 0.5546 - accuracy: 0.7301 - val_loss: 0.6091 - val_accuracy: 0.6968\n",
      "Epoch 14/100\n",
      "18/18 [==============================] - 0s 3ms/step - loss: 0.5329 - accuracy: 0.7464 - val_loss: 0.5854 - val_accuracy: 0.7184\n",
      "Epoch 15/100\n",
      "18/18 [==============================] - 0s 3ms/step - loss: 0.5099 - accuracy: 0.7554 - val_loss: 0.5539 - val_accuracy: 0.7545\n",
      "Epoch 16/100\n",
      "18/18 [==============================] - 0s 3ms/step - loss: 0.4829 - accuracy: 0.7871 - val_loss: 0.5218 - val_accuracy: 0.7653\n",
      "Epoch 17/100\n",
      "18/18 [==============================] - 0s 3ms/step - loss: 0.4584 - accuracy: 0.8043 - val_loss: 0.4976 - val_accuracy: 0.8195\n",
      "Epoch 18/100\n",
      "18/18 [==============================] - 0s 3ms/step - loss: 0.4289 - accuracy: 0.8207 - val_loss: 0.4790 - val_accuracy: 0.8231\n",
      "Epoch 19/100\n",
      "18/18 [==============================] - 0s 3ms/step - loss: 0.4039 - accuracy: 0.8397 - val_loss: 0.4380 - val_accuracy: 0.8339\n",
      "Epoch 20/100\n",
      "18/18 [==============================] - 0s 3ms/step - loss: 0.3773 - accuracy: 0.8433 - val_loss: 0.4144 - val_accuracy: 0.8484\n",
      "Epoch 21/100\n",
      "18/18 [==============================] - 0s 3ms/step - loss: 0.3530 - accuracy: 0.8687 - val_loss: 0.3904 - val_accuracy: 0.8484\n",
      "Epoch 22/100\n",
      "18/18 [==============================] - 0s 3ms/step - loss: 0.3442 - accuracy: 0.8587 - val_loss: 0.3723 - val_accuracy: 0.8303\n",
      "Epoch 23/100\n",
      "18/18 [==============================] - 0s 3ms/step - loss: 0.3201 - accuracy: 0.8786 - val_loss: 0.3644 - val_accuracy: 0.8592\n",
      "Epoch 24/100\n",
      "18/18 [==============================] - 0s 3ms/step - loss: 0.3053 - accuracy: 0.8795 - val_loss: 0.3485 - val_accuracy: 0.8556\n",
      "Epoch 25/100\n",
      "18/18 [==============================] - 0s 3ms/step - loss: 0.2990 - accuracy: 0.8813 - val_loss: 0.3419 - val_accuracy: 0.8520\n",
      "Epoch 26/100\n",
      "18/18 [==============================] - 0s 3ms/step - loss: 0.2799 - accuracy: 0.8940 - val_loss: 0.3403 - val_accuracy: 0.8664\n",
      "Epoch 27/100\n",
      "18/18 [==============================] - 0s 3ms/step - loss: 0.2684 - accuracy: 0.8986 - val_loss: 0.3279 - val_accuracy: 0.8700\n",
      "Epoch 28/100\n",
      "18/18 [==============================] - 0s 3ms/step - loss: 0.2636 - accuracy: 0.8986 - val_loss: 0.3317 - val_accuracy: 0.8592\n",
      "Epoch 29/100\n",
      "18/18 [==============================] - 0s 3ms/step - loss: 0.2510 - accuracy: 0.8967 - val_loss: 0.3099 - val_accuracy: 0.8736\n",
      "Epoch 30/100\n",
      "18/18 [==============================] - 0s 3ms/step - loss: 0.2385 - accuracy: 0.9049 - val_loss: 0.3012 - val_accuracy: 0.8773\n",
      "Epoch 31/100\n",
      "18/18 [==============================] - 0s 3ms/step - loss: 0.2287 - accuracy: 0.9103 - val_loss: 0.3057 - val_accuracy: 0.8664\n",
      "Epoch 32/100\n",
      "18/18 [==============================] - 0s 3ms/step - loss: 0.2181 - accuracy: 0.9149 - val_loss: 0.2807 - val_accuracy: 0.8989\n",
      "Epoch 33/100\n",
      "18/18 [==============================] - 0s 3ms/step - loss: 0.2147 - accuracy: 0.9203 - val_loss: 0.2723 - val_accuracy: 0.8989\n",
      "Epoch 34/100\n",
      "18/18 [==============================] - 0s 3ms/step - loss: 0.2064 - accuracy: 0.9275 - val_loss: 0.2667 - val_accuracy: 0.9134\n",
      "Epoch 35/100\n",
      "18/18 [==============================] - 0s 3ms/step - loss: 0.1960 - accuracy: 0.9339 - val_loss: 0.2517 - val_accuracy: 0.9025\n",
      "Epoch 36/100\n",
      "18/18 [==============================] - 0s 3ms/step - loss: 0.1915 - accuracy: 0.9366 - val_loss: 0.2590 - val_accuracy: 0.8953\n",
      "Epoch 37/100\n",
      "18/18 [==============================] - 0s 3ms/step - loss: 0.1849 - accuracy: 0.9366 - val_loss: 0.2422 - val_accuracy: 0.8989\n",
      "Epoch 38/100\n",
      "18/18 [==============================] - 0s 3ms/step - loss: 0.1746 - accuracy: 0.9447 - val_loss: 0.2421 - val_accuracy: 0.9061\n",
      "Epoch 39/100\n",
      "18/18 [==============================] - 0s 3ms/step - loss: 0.1723 - accuracy: 0.9429 - val_loss: 0.2394 - val_accuracy: 0.8953\n",
      "Epoch 40/100\n",
      "18/18 [==============================] - 0s 3ms/step - loss: 0.1694 - accuracy: 0.9393 - val_loss: 0.2447 - val_accuracy: 0.9025\n",
      "Epoch 41/100\n",
      "18/18 [==============================] - 0s 3ms/step - loss: 0.1634 - accuracy: 0.9429 - val_loss: 0.2407 - val_accuracy: 0.9134\n",
      "Epoch 42/100\n",
      "18/18 [==============================] - 0s 3ms/step - loss: 0.1629 - accuracy: 0.9484 - val_loss: 0.2363 - val_accuracy: 0.8881\n",
      "Epoch 43/100\n",
      "18/18 [==============================] - 0s 3ms/step - loss: 0.1489 - accuracy: 0.9601 - val_loss: 0.2206 - val_accuracy: 0.9061\n",
      "Epoch 44/100\n",
      "18/18 [==============================] - 0s 5ms/step - loss: 0.1474 - accuracy: 0.9502 - val_loss: 0.2017 - val_accuracy: 0.9386\n",
      "Epoch 45/100\n",
      "18/18 [==============================] - 0s 3ms/step - loss: 0.1373 - accuracy: 0.9574 - val_loss: 0.2108 - val_accuracy: 0.9170\n",
      "Epoch 46/100\n",
      "18/18 [==============================] - 0s 3ms/step - loss: 0.1342 - accuracy: 0.9647 - val_loss: 0.1981 - val_accuracy: 0.9278\n",
      "Epoch 47/100\n",
      "18/18 [==============================] - 0s 3ms/step - loss: 0.1308 - accuracy: 0.9701 - val_loss: 0.1975 - val_accuracy: 0.9314\n",
      "Epoch 48/100\n",
      "18/18 [==============================] - 0s 3ms/step - loss: 0.1336 - accuracy: 0.9583 - val_loss: 0.1960 - val_accuracy: 0.9314\n",
      "Epoch 49/100\n",
      "18/18 [==============================] - 0s 3ms/step - loss: 0.1268 - accuracy: 0.9683 - val_loss: 0.1918 - val_accuracy: 0.9350\n",
      "Epoch 50/100\n",
      "18/18 [==============================] - 0s 3ms/step - loss: 0.1196 - accuracy: 0.9701 - val_loss: 0.1925 - val_accuracy: 0.9278\n",
      "Epoch 51/100\n",
      "18/18 [==============================] - 0s 3ms/step - loss: 0.1146 - accuracy: 0.9737 - val_loss: 0.1901 - val_accuracy: 0.9134\n",
      "Epoch 52/100\n",
      "18/18 [==============================] - 0s 3ms/step - loss: 0.1132 - accuracy: 0.9692 - val_loss: 0.1765 - val_accuracy: 0.9458\n",
      "Epoch 53/100\n",
      "18/18 [==============================] - 0s 3ms/step - loss: 0.1075 - accuracy: 0.9692 - val_loss: 0.1808 - val_accuracy: 0.9314\n",
      "Epoch 54/100\n",
      "18/18 [==============================] - 0s 4ms/step - loss: 0.1116 - accuracy: 0.9755 - val_loss: 0.1768 - val_accuracy: 0.9422\n",
      "Epoch 55/100\n",
      "18/18 [==============================] - 0s 3ms/step - loss: 0.1054 - accuracy: 0.9701 - val_loss: 0.1666 - val_accuracy: 0.9458\n",
      "Epoch 56/100\n",
      "18/18 [==============================] - 0s 3ms/step - loss: 0.0995 - accuracy: 0.9755 - val_loss: 0.1706 - val_accuracy: 0.9495\n",
      "Epoch 57/100\n",
      "18/18 [==============================] - 0s 3ms/step - loss: 0.1070 - accuracy: 0.9692 - val_loss: 0.1622 - val_accuracy: 0.9458\n",
      "Epoch 58/100\n",
      "18/18 [==============================] - 0s 3ms/step - loss: 0.0954 - accuracy: 0.9792 - val_loss: 0.1629 - val_accuracy: 0.9422\n",
      "Epoch 59/100\n",
      "18/18 [==============================] - 0s 3ms/step - loss: 0.0901 - accuracy: 0.9792 - val_loss: 0.1722 - val_accuracy: 0.9170\n",
      "Epoch 60/100\n",
      "18/18 [==============================] - 0s 3ms/step - loss: 0.0950 - accuracy: 0.9764 - val_loss: 0.1738 - val_accuracy: 0.9458\n",
      "Epoch 61/100\n",
      "18/18 [==============================] - 0s 3ms/step - loss: 0.0891 - accuracy: 0.9737 - val_loss: 0.1499 - val_accuracy: 0.9495\n",
      "Epoch 62/100\n",
      "18/18 [==============================] - 0s 3ms/step - loss: 0.0831 - accuracy: 0.9846 - val_loss: 0.1596 - val_accuracy: 0.9350\n",
      "Epoch 63/100\n",
      "18/18 [==============================] - 0s 3ms/step - loss: 0.0841 - accuracy: 0.9837 - val_loss: 0.1583 - val_accuracy: 0.9495\n",
      "Epoch 64/100\n",
      "18/18 [==============================] - 0s 3ms/step - loss: 0.0858 - accuracy: 0.9774 - val_loss: 0.1638 - val_accuracy: 0.9422\n",
      "Epoch 65/100\n",
      "18/18 [==============================] - 0s 3ms/step - loss: 0.0723 - accuracy: 0.9864 - val_loss: 0.1500 - val_accuracy: 0.9422\n",
      "Epoch 66/100\n",
      "18/18 [==============================] - 0s 3ms/step - loss: 0.0709 - accuracy: 0.9846 - val_loss: 0.1480 - val_accuracy: 0.9495\n",
      "Epoch 67/100\n",
      "18/18 [==============================] - 0s 3ms/step - loss: 0.0741 - accuracy: 0.9810 - val_loss: 0.1472 - val_accuracy: 0.9495\n",
      "Epoch 68/100\n",
      "18/18 [==============================] - 0s 3ms/step - loss: 0.0723 - accuracy: 0.9810 - val_loss: 0.1393 - val_accuracy: 0.9567\n",
      "Epoch 69/100\n",
      "18/18 [==============================] - 0s 3ms/step - loss: 0.0703 - accuracy: 0.9837 - val_loss: 0.1432 - val_accuracy: 0.9531\n",
      "Epoch 70/100\n",
      "18/18 [==============================] - 0s 3ms/step - loss: 0.0677 - accuracy: 0.9873 - val_loss: 0.1387 - val_accuracy: 0.9458\n",
      "Epoch 71/100\n",
      "18/18 [==============================] - 0s 3ms/step - loss: 0.0675 - accuracy: 0.9873 - val_loss: 0.1399 - val_accuracy: 0.9567\n",
      "Epoch 72/100\n",
      "18/18 [==============================] - 0s 3ms/step - loss: 0.0639 - accuracy: 0.9828 - val_loss: 0.1358 - val_accuracy: 0.9458\n",
      "Epoch 73/100\n",
      "18/18 [==============================] - 0s 3ms/step - loss: 0.0637 - accuracy: 0.9864 - val_loss: 0.1324 - val_accuracy: 0.9567\n",
      "Epoch 74/100\n",
      "18/18 [==============================] - 0s 3ms/step - loss: 0.0599 - accuracy: 0.9891 - val_loss: 0.1583 - val_accuracy: 0.9350\n",
      "Epoch 75/100\n",
      "18/18 [==============================] - 0s 3ms/step - loss: 0.0613 - accuracy: 0.9864 - val_loss: 0.1387 - val_accuracy: 0.9495\n",
      "Epoch 76/100\n",
      "18/18 [==============================] - 0s 3ms/step - loss: 0.0566 - accuracy: 0.9900 - val_loss: 0.1336 - val_accuracy: 0.9531\n",
      "Epoch 77/100\n",
      "18/18 [==============================] - 0s 3ms/step - loss: 0.0597 - accuracy: 0.9855 - val_loss: 0.1338 - val_accuracy: 0.9458\n",
      "Epoch 78/100\n",
      "18/18 [==============================] - 0s 3ms/step - loss: 0.0653 - accuracy: 0.9819 - val_loss: 0.1323 - val_accuracy: 0.9495\n",
      "Epoch 79/100\n",
      "18/18 [==============================] - 0s 5ms/step - loss: 0.0532 - accuracy: 0.9937 - val_loss: 0.1477 - val_accuracy: 0.9458\n",
      "Epoch 80/100\n",
      "18/18 [==============================] - 0s 4ms/step - loss: 0.0542 - accuracy: 0.9891 - val_loss: 0.1240 - val_accuracy: 0.9495\n",
      "Epoch 81/100\n",
      "18/18 [==============================] - 0s 3ms/step - loss: 0.0520 - accuracy: 0.9918 - val_loss: 0.1185 - val_accuracy: 0.9603\n",
      "Epoch 82/100\n",
      "18/18 [==============================] - 0s 3ms/step - loss: 0.0534 - accuracy: 0.9891 - val_loss: 0.1266 - val_accuracy: 0.9422\n",
      "Epoch 83/100\n",
      "18/18 [==============================] - 0s 3ms/step - loss: 0.0517 - accuracy: 0.9900 - val_loss: 0.1192 - val_accuracy: 0.9531\n",
      "Epoch 84/100\n",
      "18/18 [==============================] - 0s 3ms/step - loss: 0.0475 - accuracy: 0.9928 - val_loss: 0.1162 - val_accuracy: 0.9567\n",
      "Epoch 85/100\n",
      "18/18 [==============================] - 0s 3ms/step - loss: 0.0458 - accuracy: 0.9946 - val_loss: 0.1168 - val_accuracy: 0.9531\n",
      "Epoch 86/100\n",
      "18/18 [==============================] - 0s 3ms/step - loss: 0.0459 - accuracy: 0.9918 - val_loss: 0.1223 - val_accuracy: 0.9567\n",
      "Epoch 87/100\n",
      "18/18 [==============================] - 0s 3ms/step - loss: 0.0427 - accuracy: 0.9937 - val_loss: 0.1252 - val_accuracy: 0.9567\n",
      "Epoch 88/100\n",
      "18/18 [==============================] - 0s 3ms/step - loss: 0.0425 - accuracy: 0.9918 - val_loss: 0.1192 - val_accuracy: 0.9495\n",
      "Epoch 89/100\n",
      "18/18 [==============================] - 0s 3ms/step - loss: 0.0438 - accuracy: 0.9964 - val_loss: 0.1317 - val_accuracy: 0.9531\n",
      "Epoch 90/100\n",
      "18/18 [==============================] - 0s 3ms/step - loss: 0.0426 - accuracy: 0.9937 - val_loss: 0.1204 - val_accuracy: 0.9531\n",
      "Epoch 91/100\n",
      "18/18 [==============================] - 0s 3ms/step - loss: 0.0494 - accuracy: 0.9900 - val_loss: 0.1265 - val_accuracy: 0.9567\n",
      "Epoch 92/100\n",
      "18/18 [==============================] - 0s 3ms/step - loss: 0.0421 - accuracy: 0.9928 - val_loss: 0.1341 - val_accuracy: 0.9495\n",
      "Epoch 93/100\n",
      "18/18 [==============================] - 0s 3ms/step - loss: 0.0411 - accuracy: 0.9937 - val_loss: 0.1366 - val_accuracy: 0.9495\n",
      "Epoch 94/100\n",
      "18/18 [==============================] - 0s 3ms/step - loss: 0.0404 - accuracy: 0.9928 - val_loss: 0.1212 - val_accuracy: 0.9531\n",
      "Epoch 95/100\n",
      "18/18 [==============================] - 0s 3ms/step - loss: 0.0417 - accuracy: 0.9918 - val_loss: 0.1191 - val_accuracy: 0.9531\n",
      "Epoch 96/100\n",
      "18/18 [==============================] - 0s 3ms/step - loss: 0.0434 - accuracy: 0.9909 - val_loss: 0.1097 - val_accuracy: 0.9603\n",
      "Epoch 97/100\n",
      "18/18 [==============================] - 0s 3ms/step - loss: 0.0391 - accuracy: 0.9928 - val_loss: 0.1297 - val_accuracy: 0.9495\n",
      "Epoch 98/100\n",
      "18/18 [==============================] - 0s 3ms/step - loss: 0.0500 - accuracy: 0.9891 - val_loss: 0.1114 - val_accuracy: 0.9603\n",
      "Epoch 99/100\n",
      "18/18 [==============================] - 0s 3ms/step - loss: 0.0329 - accuracy: 0.9964 - val_loss: 0.1148 - val_accuracy: 0.9567\n",
      "Epoch 100/100\n",
      "18/18 [==============================] - 0s 3ms/step - loss: 0.0377 - accuracy: 0.9928 - val_loss: 0.1198 - val_accuracy: 0.9567\n",
      "11/11 [==============================] - 0s 1ms/step\n"
     ]
    }
   ],
   "source": [
    "model_history = model.fit(X_train, y_train_one_hot, epochs=100, batch_size=64, validation_split=0.2)\n",
    "y_pred = model.predict(X_test)\n",
    "\n",
    "y_test_class = np.argmax(y_test_one_hot,axis=1)\n",
    "y_pred_class = np.argmax(y_pred,axis=1)"
   ]
  },
  {
   "cell_type": "code",
   "execution_count": 136,
   "metadata": {},
   "outputs": [
    {
     "data": {
      "image/png": "[encoded data removed]",
      "text/plain": [
       "<Figure size 640x480 with 1 Axes>"
      ]
     },
     "metadata": {},
     "output_type": "display_data"
    }
   ],
   "source": [
    "import matplotlib.pyplot as plt\n",
    "import seaborn as sns\n",
    "\n",
    "loss =model_history.history['loss']\n",
    "val_loss =model_history.history['val_loss']\n",
    "epochs = range(1, len(loss) + 1)\n",
    "plt.plot(epochs, loss, 'y', label='Training loss')\n",
    "plt.plot(epochs, val_loss, 'r', label='Validation loss')\n",
    "plt.title('Training and validation loss')\n",
    "plt.xlabel('Epochs')\n",
    "plt.ylabel('Loss')\n",
    "plt.legend()\n",
    "plt.show()"
   ]
  },
  {
   "cell_type": "code",
   "execution_count": 137,
   "metadata": {},
   "outputs": [
    {
     "data": {
      "image/png": "[encoded data removed]",
      "text/plain": [
       "<Figure size 640x480 with 1 Axes>"
      ]
     },
     "metadata": {},
     "output_type": "display_data"
    }
   ],
   "source": [
    "acc =model_history.history['accuracy']\n",
    "val_acc =model_history.history['val_accuracy']\n",
    "plt.plot(epochs, acc, 'y', label='Training acc')\n",
    "plt.plot(epochs, val_acc, 'r', label='Validation acc')\n",
    "plt.title('Training and validation accuracy')\n",
    "plt.xlabel('Epochs')\n",
    "plt.ylabel('Accuracy')\n",
    "plt.legend()\n",
    "plt.show()"
   ]
  },
  {
   "cell_type": "code",
   "execution_count": 138,
   "metadata": {},
   "outputs": [
    {
     "name": "stdout",
     "output_type": "stream",
     "text": [
      "F1 score: 0.9476666011419084\n",
      "Classification report:\n",
      "               precision    recall  f1-score   support\n",
      "\n",
      "           0       0.90      0.94      0.92        77\n",
      "           1       0.88      0.47      0.61        15\n",
      "           2       0.99      1.00      0.99       237\n",
      "           3       0.72      0.76      0.74        17\n",
      "\n",
      "    accuracy                           0.95       346\n",
      "   macro avg       0.87      0.79      0.82       346\n",
      "weighted avg       0.95      0.95      0.95       346\n",
      "\n"
     ]
    }
   ],
   "source": [
    "from sklearn.metrics import f1_score, classification_report\n",
    "\n",
    "f1 = f1_score(y_test_class, y_pred_class, average='weighted')\n",
    "print(\"F1 score:\", f1)\n",
    "\n",
    "report = classification_report(y_test_class, y_pred_class)\n",
    "print(\"Classification report:\\n\", report)"
   ]
  },
  {
   "cell_type": "code",
   "execution_count": 139,
   "metadata": {},
   "outputs": [
    {
     "data": {
      "image/png": "[encoded data removed]",
      "text/plain": [
       "<Figure size 640x480 with 1 Axes>"
      ]
     },
     "metadata": {},
     "output_type": "display_data"
    }
   ],
   "source": [
    "import matplotlib.pyplot as plt\n",
    "\n",
    "metrics = {'F1 score': f1}\n",
    "plt.bar(metrics.keys(), metrics.values())\n",
    "plt.show()"
   ]
  }
 ],
 "metadata": {
  "kernelspec": {
   "display_name": "Python 3",
   "language": "python",
   "name": "python3"
  },
  "language_info": {
   "codemirror_mode": {
    "name": "ipython",
    "version": 3
   },
   "file_extension": ".py",
   "mimetype": "text/x-python",
   "name": "python",
   "nbconvert_exporter": "python",
   "pygments_lexer": "ipython3",
   "version": "3.10.6"
  },
  "orig_nbformat": 4
 },
 "nbformat": 4,
 "nbformat_minor": 2
}
